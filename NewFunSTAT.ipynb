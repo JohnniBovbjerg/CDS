{
 "cells": [
  {
   "cell_type": "markdown",
   "id": "1a846cfe-d705-4f1f-866b-b4b370af384d",
   "metadata": {},
   "source": [
    "# Part 1 - The basics"
   ]
  },
  {
   "cell_type": "markdown",
   "id": "de565579-30e8-488a-9497-70dfb555dbdc",
   "metadata": {},
   "source": [
    "<- is the same as = "
   ]
  },
  {
   "cell_type": "markdown",
   "id": "223204e5-f880-46d3-b81f-63e24071759b",
   "metadata": {},
   "source": [
    "R is just a calculator."
   ]
  },
  {
   "cell_type": "code",
   "execution_count": 12,
   "id": "21e221b0-07e2-49e1-b9a9-c3950d59cf3d",
   "metadata": {},
   "outputs": [
    {
     "data": {
      "text/html": [
       "7"
      ],
      "text/latex": [
       "7"
      ],
      "text/markdown": [
       "7"
      ],
      "text/plain": [
       "[1] 7"
      ]
     },
     "metadata": {},
     "output_type": "display_data"
    }
   ],
   "source": [
    "4+3"
   ]
  },
  {
   "cell_type": "code",
   "execution_count": 13,
   "id": "265925a8-24b1-497f-ad40-fb97d803ce77",
   "metadata": {},
   "outputs": [
    {
     "data": {
      "text/html": [
       "1"
      ],
      "text/latex": [
       "1"
      ],
      "text/markdown": [
       "1"
      ],
      "text/plain": [
       "[1] 1"
      ]
     },
     "metadata": {},
     "output_type": "display_data"
    }
   ],
   "source": [
    "4-3"
   ]
  },
  {
   "cell_type": "markdown",
   "id": "5acd0cf3-6792-4e36-8e68-79c022c09f93",
   "metadata": {},
   "source": [
    "There is special syntax for multiplication and division."
   ]
  },
  {
   "cell_type": "code",
   "execution_count": 14,
   "id": "b77555ea-1d89-4527-a565-5c1966606e2d",
   "metadata": {},
   "outputs": [
    {
     "data": {
      "text/html": [
       "12"
      ],
      "text/latex": [
       "12"
      ],
      "text/markdown": [
       "12"
      ],
      "text/plain": [
       "[1] 12"
      ]
     },
     "metadata": {},
     "output_type": "display_data"
    }
   ],
   "source": [
    "4*3"
   ]
  },
  {
   "cell_type": "code",
   "execution_count": 15,
   "id": "ef1d5efe-3dea-40dd-b96c-88ad80fb0a15",
   "metadata": {},
   "outputs": [
    {
     "data": {
      "text/html": [
       "4"
      ],
      "text/latex": [
       "4"
      ],
      "text/markdown": [
       "4"
      ],
      "text/plain": [
       "[1] 4"
      ]
     },
     "metadata": {},
     "output_type": "display_data"
    }
   ],
   "source": [
    "12/3"
   ]
  },
  {
   "cell_type": "markdown",
   "id": "74e06cd4-c9cc-46cd-91eb-154947ae895a",
   "metadata": {},
   "source": [
    "We can also assign numbers to variables and to operations."
   ]
  },
  {
   "cell_type": "code",
   "execution_count": 3,
   "id": "ffbb4db1-36f8-4371-b860-b9e1136b93b7",
   "metadata": {},
   "outputs": [],
   "source": [
    "a <- 10\n",
    "b <- 5"
   ]
  },
  {
   "cell_type": "code",
   "execution_count": 16,
   "id": "390bbb5f-62d3-432a-94a3-f0e324fc9e59",
   "metadata": {},
   "outputs": [
    {
     "data": {
      "text/html": [
       "15"
      ],
      "text/latex": [
       "15"
      ],
      "text/markdown": [
       "15"
      ],
      "text/plain": [
       "[1] 15"
      ]
     },
     "metadata": {},
     "output_type": "display_data"
    }
   ],
   "source": [
    "a+b"
   ]
  },
  {
   "cell_type": "code",
   "execution_count": 17,
   "id": "68ffd485-52fa-40ec-a6bb-e9d68e5df7bd",
   "metadata": {},
   "outputs": [],
   "source": [
    "a <- 5\n",
    "b <- 6"
   ]
  },
  {
   "cell_type": "code",
   "execution_count": 18,
   "id": "de9620ab-13cf-4904-88f7-6ba4a6677515",
   "metadata": {},
   "outputs": [
    {
     "data": {
      "text/html": [
       "11"
      ],
      "text/latex": [
       "11"
      ],
      "text/markdown": [
       "11"
      ],
      "text/plain": [
       "[1] 11"
      ]
     },
     "metadata": {},
     "output_type": "display_data"
    }
   ],
   "source": [
    "a+b"
   ]
  },
  {
   "cell_type": "code",
   "execution_count": 19,
   "id": "1b96bd23-298b-4695-84c7-50ba122337b9",
   "metadata": {},
   "outputs": [
    {
     "data": {
      "text/html": [
       "54"
      ],
      "text/latex": [
       "54"
      ],
      "text/markdown": [
       "54"
      ],
      "text/plain": [
       "[1] 54"
      ]
     },
     "metadata": {},
     "output_type": "display_data"
    }
   ],
   "source": [
    "a <- 50\n",
    "b <- 4\n",
    "a+b"
   ]
  },
  {
   "cell_type": "code",
   "execution_count": 20,
   "id": "853d6681-473e-4455-a105-958296311b39",
   "metadata": {},
   "outputs": [
    {
     "data": {
      "text/html": [
       "7"
      ],
      "text/latex": [
       "7"
      ],
      "text/markdown": [
       "7"
      ],
      "text/plain": [
       "[1] 7"
      ]
     },
     "metadata": {},
     "output_type": "display_data"
    }
   ],
   "source": [
    "sum(4, 3)"
   ]
  },
  {
   "cell_type": "code",
   "execution_count": 21,
   "id": "00eb80c0-af3a-4b15-a00f-a123c4dff9a1",
   "metadata": {},
   "outputs": [
    {
     "data": {
      "text/html": [
       "2"
      ],
      "text/latex": [
       "2"
      ],
      "text/markdown": [
       "2"
      ],
      "text/plain": [
       "[1] 2"
      ]
     },
     "metadata": {},
     "output_type": "display_data"
    }
   ],
   "source": [
    "sqrt(4)"
   ]
  },
  {
   "cell_type": "code",
   "execution_count": 23,
   "id": "1b26e32b-2485-4ef4-abc8-0ffba55a5367",
   "metadata": {},
   "outputs": [
    {
     "data": {
      "text/html": [
       "54"
      ],
      "text/latex": [
       "54"
      ],
      "text/markdown": [
       "54"
      ],
      "text/plain": [
       "[1] 54"
      ]
     },
     "metadata": {},
     "output_type": "display_data"
    }
   ],
   "source": [
    "sum(a, b)"
   ]
  },
  {
   "cell_type": "code",
   "execution_count": 5,
   "id": "b64165a8-b6cf-4f74-92c5-8331910d30db",
   "metadata": {},
   "outputs": [
    {
     "name": "stdout",
     "output_type": "stream",
     "text": [
      "[1] 5\n"
     ]
    }
   ],
   "source": [
    "difference <- a - b\n",
    "print(difference)"
   ]
  },
  {
   "cell_type": "code",
   "execution_count": 6,
   "id": "245a447e-7880-4055-8341-74fcf90cfb43",
   "metadata": {},
   "outputs": [
    {
     "name": "stdout",
     "output_type": "stream",
     "text": [
      "[1] 2\n"
     ]
    }
   ],
   "source": [
    "quotient <- a / b\n",
    "print(quotient)"
   ]
  },
  {
   "cell_type": "code",
   "execution_count": 7,
   "id": "6f2fb561-5910-47f0-97c2-be1effb73e7f",
   "metadata": {},
   "outputs": [
    {
     "name": "stdout",
     "output_type": "stream",
     "text": [
      "[1] 50\n"
     ]
    }
   ],
   "source": [
    "product <- a * b\n",
    "print(product)"
   ]
  },
  {
   "cell_type": "markdown",
   "id": "e849af61-59e4-4c22-8359-93fbf214c73b",
   "metadata": {},
   "source": [
    "A function is just something with an input and an output."
   ]
  },
  {
   "cell_type": "code",
   "execution_count": null,
   "id": "c5260e87-8683-4e6b-91ab-383c9637aa76",
   "metadata": {},
   "outputs": [],
   "source": []
  },
  {
   "cell_type": "code",
   "execution_count": null,
   "id": "11c137cb-3fb2-4a4d-8b27-6b59f52739a9",
   "metadata": {},
   "outputs": [],
   "source": []
  },
  {
   "cell_type": "markdown",
   "id": "3e91f7cc-255b-48f4-ab57-eb7391ee4abb",
   "metadata": {},
   "source": [
    "# Part 2 - A bit more advanced"
   ]
  },
  {
   "cell_type": "markdown",
   "id": "248b1114-2884-4f05-bffc-56e160aea5cc",
   "metadata": {},
   "source": [
    "The nice thing about R is that unlike on a calculator, you can keep track of your operations. This is important for reproducing your work, and doing more complicated stuff. Let's look at some of this more complicated stuff!"
   ]
  },
  {
   "cell_type": "markdown",
   "id": "ac06ad57-0aeb-4026-94da-8c7c106cf4f5",
   "metadata": {},
   "source": [
    "We can assign lists of numbers to variables. This is called an array.\n",
    "'c' is just a function. It means 'concatenate'."
   ]
  },
  {
   "cell_type": "code",
   "execution_count": 26,
   "id": "4e6a29ac-95f4-4fb9-990b-8a62069bcd76",
   "metadata": {},
   "outputs": [],
   "source": [
    "A <- c(1, 2, 3, 4, 5)\n",
    "B <- c(2, 2, 2, 2, 2)"
   ]
  },
  {
   "cell_type": "markdown",
   "id": "c24e1454-776f-4daf-a99e-25200904b9ee",
   "metadata": {},
   "source": [
    "We can do operations on lists too, the same as for simpler variables.\n",
    "We can make a new variable in the process."
   ]
  },
  {
   "cell_type": "code",
   "execution_count": 27,
   "id": "aba7981c-75e6-4f6d-a5cf-9820890daa6b",
   "metadata": {},
   "outputs": [
    {
     "data": {
      "text/html": [
       "<style>\n",
       ".list-inline {list-style: none; margin:0; padding: 0}\n",
       ".list-inline>li {display: inline-block}\n",
       ".list-inline>li:not(:last-child)::after {content: \"\\00b7\"; padding: 0 .5ex}\n",
       "</style>\n",
       "<ol class=list-inline><li>3</li><li>4</li><li>5</li><li>6</li><li>7</li></ol>\n"
      ],
      "text/latex": [
       "\\begin{enumerate*}\n",
       "\\item 3\n",
       "\\item 4\n",
       "\\item 5\n",
       "\\item 6\n",
       "\\item 7\n",
       "\\end{enumerate*}\n"
      ],
      "text/markdown": [
       "1. 3\n",
       "2. 4\n",
       "3. 5\n",
       "4. 6\n",
       "5. 7\n",
       "\n",
       "\n"
      ],
      "text/plain": [
       "[1] 3 4 5 6 7"
      ]
     },
     "metadata": {},
     "output_type": "display_data"
    }
   ],
   "source": [
    "C <- A + B\n",
    "C"
   ]
  },
  {
   "cell_type": "markdown",
   "id": "9bc9f880-9552-48c3-9e09-18c606f30a30",
   "metadata": {},
   "source": [
    "To see the output, you need to call the variable directly."
   ]
  },
  {
   "cell_type": "code",
   "execution_count": null,
   "id": "2860fb03-b59f-414b-87a2-7f181486fee2",
   "metadata": {},
   "outputs": [],
   "source": []
  },
  {
   "cell_type": "markdown",
   "id": "acfd0860-c27e-4e04-b5ba-ab599b7f9986",
   "metadata": {},
   "source": [
    "We can use other functions to make lists. We can make sequences..."
   ]
  },
  {
   "cell_type": "code",
   "execution_count": 28,
   "id": "df9fb366-73e2-41f9-95ae-dbb3c2cc57c3",
   "metadata": {},
   "outputs": [
    {
     "data": {
      "text/html": [
       "<style>\n",
       ".list-inline {list-style: none; margin:0; padding: 0}\n",
       ".list-inline>li {display: inline-block}\n",
       ".list-inline>li:not(:last-child)::after {content: \"\\00b7\"; padding: 0 .5ex}\n",
       "</style>\n",
       "<ol class=list-inline><li>1</li><li>2</li><li>3</li><li>4</li><li>5</li></ol>\n"
      ],
      "text/latex": [
       "\\begin{enumerate*}\n",
       "\\item 1\n",
       "\\item 2\n",
       "\\item 3\n",
       "\\item 4\n",
       "\\item 5\n",
       "\\end{enumerate*}\n"
      ],
      "text/markdown": [
       "1. 1\n",
       "2. 2\n",
       "3. 3\n",
       "4. 4\n",
       "5. 5\n",
       "\n",
       "\n"
      ],
      "text/plain": [
       "[1] 1 2 3 4 5"
      ]
     },
     "metadata": {},
     "output_type": "display_data"
    }
   ],
   "source": [
    "A <- seq(1, 5, 1)\n",
    "A"
   ]
  },
  {
   "cell_type": "markdown",
   "id": "2fb47e4b-4003-47a5-b65f-5eb3ce8450a6",
   "metadata": {},
   "source": [
    "...or repeat numbers"
   ]
  },
  {
   "cell_type": "code",
   "execution_count": 29,
   "id": "8a60419c-b130-421d-b220-41465cf63a47",
   "metadata": {},
   "outputs": [
    {
     "data": {
      "text/html": [
       "<style>\n",
       ".list-inline {list-style: none; margin:0; padding: 0}\n",
       ".list-inline>li {display: inline-block}\n",
       ".list-inline>li:not(:last-child)::after {content: \"\\00b7\"; padding: 0 .5ex}\n",
       "</style>\n",
       "<ol class=list-inline><li>2</li><li>2</li><li>2</li><li>2</li><li>2</li></ol>\n"
      ],
      "text/latex": [
       "\\begin{enumerate*}\n",
       "\\item 2\n",
       "\\item 2\n",
       "\\item 2\n",
       "\\item 2\n",
       "\\item 2\n",
       "\\end{enumerate*}\n"
      ],
      "text/markdown": [
       "1. 2\n",
       "2. 2\n",
       "3. 2\n",
       "4. 2\n",
       "5. 2\n",
       "\n",
       "\n"
      ],
      "text/plain": [
       "[1] 2 2 2 2 2"
      ]
     },
     "metadata": {},
     "output_type": "display_data"
    }
   ],
   "source": [
    "B <- rep(2, 5)\n",
    "B"
   ]
  },
  {
   "cell_type": "markdown",
   "id": "9a2b0712-bafe-468a-9789-292952058fe8",
   "metadata": {},
   "source": [
    "runif - uniform distribution - equal change of getting an outcome "
   ]
  },
  {
   "cell_type": "markdown",
   "id": "ceb4a06c-2759-42d7-b834-c66398ac717c",
   "metadata": {},
   "source": [
    "We can also generate random lists."
   ]
  },
  {
   "cell_type": "code",
   "execution_count": 30,
   "id": "a0b7baea-94b1-4e6e-8285-fb166af80ca8",
   "metadata": {},
   "outputs": [],
   "source": [
    "weight1 <- runif(30, 60, 120)\n",
    "weight2 <- runif(30 ,80, 140)\n"
   ]
  },
  {
   "cell_type": "markdown",
   "id": "2ef5e287-4fd1-423a-96c5-427fb9821212",
   "metadata": {},
   "source": [
    "?runif will help you see what the function does. "
   ]
  },
  {
   "cell_type": "markdown",
   "id": "a9b41cdd-8549-426c-a63a-c48eaef7bebb",
   "metadata": {},
   "source": [
    "A uniform distribution is a probability distribution in which all outcomes are equally likely, resulting in a constant probability density across a specified interval."
   ]
  },
  {
   "cell_type": "markdown",
   "id": "79545d3b-fcaa-4cef-8c6b-ede5ac095ebe",
   "metadata": {},
   "source": [
    "If you are unsure about how a function works, there's a built-in way to get help:"
   ]
  },
  {
   "cell_type": "code",
   "execution_count": 31,
   "id": "f032b628-f242-4e9a-a621-b48c232cf34a",
   "metadata": {},
   "outputs": [
    {
     "data": {
      "text/html": [
       "\n",
       "<table style=\"width: 100%;\"><tr><td>Uniform {stats}</td><td style=\"text-align: right;\">R Documentation</td></tr></table>\n",
       "\n",
       "<h2>The Uniform Distribution</h2>\n",
       "\n",
       "<h3>Description</h3>\n",
       "\n",
       "<p>These functions provide information about the uniform distribution\n",
       "on the interval from <code>min</code> to <code>max</code>.  <code>dunif</code> gives the\n",
       "density, <code>punif</code> gives the distribution function <code>qunif</code>\n",
       "gives the quantile function and <code>runif</code> generates random\n",
       "deviates.\n",
       "</p>\n",
       "\n",
       "\n",
       "<h3>Usage</h3>\n",
       "\n",
       "<pre><code class='language-R'>dunif(x, min = 0, max = 1, log = FALSE)\n",
       "punif(q, min = 0, max = 1, lower.tail = TRUE, log.p = FALSE)\n",
       "qunif(p, min = 0, max = 1, lower.tail = TRUE, log.p = FALSE)\n",
       "runif(n, min = 0, max = 1)\n",
       "</code></pre>\n",
       "\n",
       "\n",
       "<h3>Arguments</h3>\n",
       "\n",
       "<table>\n",
       "<tr><td><code id=\"x\">x</code>, <code id=\"q\">q</code></td>\n",
       "<td>\n",
       "<p>vector of quantiles.</p>\n",
       "</td></tr>\n",
       "<tr><td><code id=\"p\">p</code></td>\n",
       "<td>\n",
       "<p>vector of probabilities.</p>\n",
       "</td></tr>\n",
       "<tr><td><code id=\"n\">n</code></td>\n",
       "<td>\n",
       "<p>number of observations. If <code>length(n) &gt; 1</code>, the length\n",
       "is taken to be the number required.</p>\n",
       "</td></tr>\n",
       "<tr><td><code id=\"min\">min</code>, <code id=\"max\">max</code></td>\n",
       "<td>\n",
       "<p>lower and upper limits of the distribution.  Must be finite.</p>\n",
       "</td></tr>\n",
       "<tr><td><code id=\"log\">log</code>, <code id=\"log.p\">log.p</code></td>\n",
       "<td>\n",
       "<p>logical; if TRUE, probabilities p are given as log(p).</p>\n",
       "</td></tr>\n",
       "<tr><td><code id=\"lower.tail\">lower.tail</code></td>\n",
       "<td>\n",
       "<p>logical; if TRUE (default), probabilities are\n",
       "<code class=\"reqn\">P[X \\le x]</code>, otherwise, <code class=\"reqn\">P[X &gt; x]</code>.</p>\n",
       "</td></tr>\n",
       "</table>\n",
       "\n",
       "\n",
       "<h3>Details</h3>\n",
       "\n",
       "<p>If <code>min</code> or <code>max</code> are not specified they assume the default\n",
       "values of <code>0</code> and <code>1</code> respectively.\n",
       "</p>\n",
       "<p>The uniform distribution has density\n",
       "</p>\n",
       "<p style=\"text-align: center;\"><code class=\"reqn\">f(x) = \\frac{1}{max-min}</code>\n",
       "</p>\n",
       "\n",
       "<p>for <code class=\"reqn\">min \\le x \\le max</code>.\n",
       "</p>\n",
       "<p>For the case of <code class=\"reqn\">u := min == max</code>, the limit case of\n",
       "<code class=\"reqn\">X \\equiv u</code> is assumed, although there is no density in\n",
       "that case and <code>dunif</code> will return <code>NaN</code> (the error condition).\n",
       "</p>\n",
       "<p><code>runif</code> will not generate either of the extreme values unless\n",
       "<code>max = min</code> or <code>max-min</code> is small compared to <code>min</code>,\n",
       "and in particular not for the default arguments.\n",
       "</p>\n",
       "\n",
       "\n",
       "<h3>Value</h3>\n",
       "\n",
       "<p><code>dunif</code> gives the density,\n",
       "<code>punif</code> gives the distribution function,\n",
       "<code>qunif</code> gives the quantile function, and\n",
       "<code>runif</code> generates random deviates.\n",
       "</p>\n",
       "<p>The length of the result is determined by <code>n</code> for\n",
       "<code>runif</code>, and is the maximum of the lengths of the\n",
       "numerical arguments for the other functions.  \n",
       "</p>\n",
       "<p>The numerical arguments other than <code>n</code> are recycled to the\n",
       "length of the result.  Only the first elements of the logical\n",
       "arguments are used.\n",
       "</p>\n",
       "\n",
       "\n",
       "<h3>Note</h3>\n",
       "\n",
       "<p>The characteristics of output from pseudo-random number generators\n",
       "(such as precision and periodicity) vary widely.  See\n",
       "<code>.Random.seed</code> for more information on <span class=\"rlang\"><b>R</b></span>'s random number\n",
       "generation algorithms.\n",
       "</p>\n",
       "\n",
       "\n",
       "<h3>References</h3>\n",
       "\n",
       "<p>Becker, R. A., Chambers, J. M. and Wilks, A. R. (1988)\n",
       "<em>The New S Language</em>.\n",
       "Wadsworth &amp; Brooks/Cole.\n",
       "</p>\n",
       "\n",
       "\n",
       "<h3>See Also</h3>\n",
       "\n",
       "<p><code>RNG</code> about random number generation in <span class=\"rlang\"><b>R</b></span>.\n",
       "</p>\n",
       "<p>Distributions for other standard distributions.\n",
       "</p>\n",
       "\n",
       "\n",
       "<h3>Examples</h3>\n",
       "\n",
       "<pre><code class='language-R'>u &lt;- runif(20)\n",
       "\n",
       "## The following relations always hold :\n",
       "punif(u) == u\n",
       "dunif(u) == 1\n",
       "\n",
       "var(runif(10000))  #- ~ = 1/12 = .08333\n",
       "</code></pre>\n",
       "\n",
       "<hr /><div style=\"text-align: center;\">[Package <em>stats</em> version 4.4.1 ]</div></main>\n",
       "\n",
       "</div>"
      ],
      "text/latex": [
       "\\inputencoding{utf8}\n",
       "\\HeaderA{Uniform}{The Uniform Distribution}{Uniform}\n",
       "\\aliasA{dunif}{Uniform}{dunif}\n",
       "\\aliasA{punif}{Uniform}{punif}\n",
       "\\aliasA{qunif}{Uniform}{qunif}\n",
       "\\aliasA{runif}{Uniform}{runif}\n",
       "\\keyword{distribution}{Uniform}\n",
       "%\n",
       "\\begin{Description}\n",
       "These functions provide information about the uniform distribution\n",
       "on the interval from \\code{min} to \\code{max}.  \\code{dunif} gives the\n",
       "density, \\code{punif} gives the distribution function \\code{qunif}\n",
       "gives the quantile function and \\code{runif} generates random\n",
       "deviates.\n",
       "\\end{Description}\n",
       "%\n",
       "\\begin{Usage}\n",
       "\\begin{verbatim}\n",
       "dunif(x, min = 0, max = 1, log = FALSE)\n",
       "punif(q, min = 0, max = 1, lower.tail = TRUE, log.p = FALSE)\n",
       "qunif(p, min = 0, max = 1, lower.tail = TRUE, log.p = FALSE)\n",
       "runif(n, min = 0, max = 1)\n",
       "\\end{verbatim}\n",
       "\\end{Usage}\n",
       "%\n",
       "\\begin{Arguments}\n",
       "\\begin{ldescription}\n",
       "\\item[\\code{x}, \\code{q}] vector of quantiles.\n",
       "\\item[\\code{p}] vector of probabilities.\n",
       "\\item[\\code{n}] number of observations. If \\code{length(n) > 1}, the length\n",
       "is taken to be the number required.\n",
       "\\item[\\code{min}, \\code{max}] lower and upper limits of the distribution.  Must be finite.\n",
       "\\item[\\code{log}, \\code{log.p}] logical; if TRUE, probabilities p are given as log(p).\n",
       "\\item[\\code{lower.tail}] logical; if TRUE (default), probabilities are\n",
       "\\eqn{P[X \\le x]}{}, otherwise, \\eqn{P[X > x]}{}.\n",
       "\\end{ldescription}\n",
       "\\end{Arguments}\n",
       "%\n",
       "\\begin{Details}\n",
       "If \\code{min} or \\code{max} are not specified they assume the default\n",
       "values of \\code{0} and \\code{1} respectively.\n",
       "\n",
       "The uniform distribution has density\n",
       "\\deqn{f(x) = \\frac{1}{max-min}}{}\n",
       "for \\eqn{min \\le x \\le max}{}.\n",
       "\n",
       "For the case of \\eqn{u := min == max}{}, the limit case of\n",
       "\\eqn{X \\equiv u}{} is assumed, although there is no density in\n",
       "that case and \\code{dunif} will return \\code{NaN} (the error condition).\n",
       "\n",
       "\\code{runif} will not generate either of the extreme values unless\n",
       "\\code{max = min} or \\code{max-min} is small compared to \\code{min},\n",
       "and in particular not for the default arguments.\n",
       "\\end{Details}\n",
       "%\n",
       "\\begin{Value}\n",
       "\\code{dunif} gives the density,\n",
       "\\code{punif} gives the distribution function,\n",
       "\\code{qunif} gives the quantile function, and\n",
       "\\code{runif} generates random deviates.\n",
       "\n",
       "The length of the result is determined by \\code{n} for\n",
       "\\code{runif}, and is the maximum of the lengths of the\n",
       "numerical arguments for the other functions.  \n",
       "\n",
       "The numerical arguments other than \\code{n} are recycled to the\n",
       "length of the result.  Only the first elements of the logical\n",
       "arguments are used.\n",
       "\\end{Value}\n",
       "%\n",
       "\\begin{Note}\n",
       "The characteristics of output from pseudo-random number generators\n",
       "(such as precision and periodicity) vary widely.  See\n",
       "\\code{\\LinkA{.Random.seed}{.Random.seed}} for more information on \\R{}'s random number\n",
       "generation algorithms.\n",
       "\\end{Note}\n",
       "%\n",
       "\\begin{References}\n",
       "Becker, R. A., Chambers, J. M. and Wilks, A. R. (1988)\n",
       "\\emph{The New S Language}.\n",
       "Wadsworth \\& Brooks/Cole.\n",
       "\\end{References}\n",
       "%\n",
       "\\begin{SeeAlso}\n",
       "\\code{\\LinkA{RNG}{RNG}} about random number generation in \\R{}.\n",
       "\n",
       "\\LinkA{Distributions}{Distributions} for other standard distributions.\n",
       "\\end{SeeAlso}\n",
       "%\n",
       "\\begin{Examples}\n",
       "\\begin{ExampleCode}\n",
       "u <- runif(20)\n",
       "\n",
       "## The following relations always hold :\n",
       "punif(u) == u\n",
       "dunif(u) == 1\n",
       "\n",
       "var(runif(10000))  #- ~ = 1/12 = .08333\n",
       "\\end{ExampleCode}\n",
       "\\end{Examples}"
      ],
      "text/plain": [
       "Uniform                 package:stats                  R Documentation\n",
       "\n",
       "_\bT_\bh_\be _\bU_\bn_\bi_\bf_\bo_\br_\bm _\bD_\bi_\bs_\bt_\br_\bi_\bb_\bu_\bt_\bi_\bo_\bn\n",
       "\n",
       "_\bD_\be_\bs_\bc_\br_\bi_\bp_\bt_\bi_\bo_\bn:\n",
       "\n",
       "     These functions provide information about the uniform distribution\n",
       "     on the interval from ‘min’ to ‘max’.  ‘dunif’ gives the density,\n",
       "     ‘punif’ gives the distribution function ‘qunif’ gives the quantile\n",
       "     function and ‘runif’ generates random deviates.\n",
       "\n",
       "_\bU_\bs_\ba_\bg_\be:\n",
       "\n",
       "     dunif(x, min = 0, max = 1, log = FALSE)\n",
       "     punif(q, min = 0, max = 1, lower.tail = TRUE, log.p = FALSE)\n",
       "     qunif(p, min = 0, max = 1, lower.tail = TRUE, log.p = FALSE)\n",
       "     runif(n, min = 0, max = 1)\n",
       "     \n",
       "_\bA_\br_\bg_\bu_\bm_\be_\bn_\bt_\bs:\n",
       "\n",
       "    x, q: vector of quantiles.\n",
       "\n",
       "       p: vector of probabilities.\n",
       "\n",
       "       n: number of observations. If ‘length(n) > 1’, the length is\n",
       "          taken to be the number required.\n",
       "\n",
       "min, max: lower and upper limits of the distribution.  Must be finite.\n",
       "\n",
       "log, log.p: logical; if TRUE, probabilities p are given as log(p).\n",
       "\n",
       "lower.tail: logical; if TRUE (default), probabilities are P[X <= x],\n",
       "          otherwise, P[X > x].\n",
       "\n",
       "_\bD_\be_\bt_\ba_\bi_\bl_\bs:\n",
       "\n",
       "     If ‘min’ or ‘max’ are not specified they assume the default values\n",
       "     of ‘0’ and ‘1’ respectively.\n",
       "\n",
       "     The uniform distribution has density\n",
       "\n",
       "                             f(x) = 1/(max-min)                         \n",
       "     \n",
       "     for min <= x <= max.\n",
       "\n",
       "     For the case of u := min == max, the limit case of X == u is\n",
       "     assumed, although there is no density in that case and ‘dunif’\n",
       "     will return ‘NaN’ (the error condition).\n",
       "\n",
       "     ‘runif’ will not generate either of the extreme values unless ‘max\n",
       "     = min’ or ‘max-min’ is small compared to ‘min’, and in particular\n",
       "     not for the default arguments.\n",
       "\n",
       "_\bV_\ba_\bl_\bu_\be:\n",
       "\n",
       "     ‘dunif’ gives the density, ‘punif’ gives the distribution\n",
       "     function, ‘qunif’ gives the quantile function, and ‘runif’\n",
       "     generates random deviates.\n",
       "\n",
       "     The length of the result is determined by ‘n’ for ‘runif’, and is\n",
       "     the maximum of the lengths of the numerical arguments for the\n",
       "     other functions.\n",
       "\n",
       "     The numerical arguments other than ‘n’ are recycled to the length\n",
       "     of the result.  Only the first elements of the logical arguments\n",
       "     are used.\n",
       "\n",
       "_\bN_\bo_\bt_\be:\n",
       "\n",
       "     The characteristics of output from pseudo-random number generators\n",
       "     (such as precision and periodicity) vary widely.  See\n",
       "     ‘.Random.seed’ for more information on R's random number\n",
       "     generation algorithms.\n",
       "\n",
       "_\bR_\be_\bf_\be_\br_\be_\bn_\bc_\be_\bs:\n",
       "\n",
       "     Becker, R. A., Chambers, J. M. and Wilks, A. R. (1988) _The New S\n",
       "     Language_.  Wadsworth & Brooks/Cole.\n",
       "\n",
       "_\bS_\be_\be _\bA_\bl_\bs_\bo:\n",
       "\n",
       "     ‘RNG’ about random number generation in R.\n",
       "\n",
       "     Distributions for other standard distributions.\n",
       "\n",
       "_\bE_\bx_\ba_\bm_\bp_\bl_\be_\bs:\n",
       "\n",
       "     u <- runif(20)\n",
       "     \n",
       "     ## The following relations always hold :\n",
       "     punif(u) == u\n",
       "     dunif(u) == 1\n",
       "     \n",
       "     var(runif(10000))  #- ~ = 1/12 = .08333\n",
       "     "
      ]
     },
     "metadata": {},
     "output_type": "display_data"
    }
   ],
   "source": [
    "?runif"
   ]
  },
  {
   "cell_type": "markdown",
   "id": "a2698634-aee6-4790-9067-9a70003b55cb",
   "metadata": {},
   "source": [
    "We don't have to use a uniform distribution. Actually, a normal distribution will be better. Let's do that instead."
   ]
  },
  {
   "cell_type": "markdown",
   "id": "e55715a2-de2f-4857-b61c-f229227c63bc",
   "metadata": {},
   "source": [
    "normal distribution  - bell curve - confidence interval \n",
    "Here's what each part of rnorm(30, 60, 10) does:\n",
    "\n",
    "30: This is the number of random numbers you want to generate. In this case, rnorm() will create a vector of 30 random numbers.\n",
    "\n",
    "60: This is the mean (or average) of the normal distribution. The numbers will be centered around 60, so most of the values will be close to this number.\n",
    "\n",
    "10: This is the standard deviation of the normal distribution. The standard deviation determines how spread out the numbers are. A larger value means more spread out; in this case, the values will mostly be within 10 units of the mean (so between 50 and 70, approximately)."
   ]
  },
  {
   "cell_type": "code",
   "execution_count": 32,
   "id": "b3e8bc5d-cc2f-45b5-8f25-40ab16129b09",
   "metadata": {},
   "outputs": [],
   "source": [
    "weight1 <- rnorm(30, 60, 10)\n",
    "weight2 <- rnorm(30, 80, 10)"
   ]
  },
  {
   "cell_type": "markdown",
   "id": "96fb9a30-367e-403a-8058-24b0715b1611",
   "metadata": {},
   "source": [
    "A normal distribution is a symmetric, bell-shaped probability distribution characterized by its mean and standard deviation, where approximately 68% of the data falls within one standard deviation of the mean."
   ]
  },
  {
   "cell_type": "markdown",
   "id": "a1468e8b-d238-4885-9d26-4502e6da5308",
   "metadata": {},
   "source": [
    "We can also make lists of words. This can be useful if our variables are categorical. "
   ]
  },
  {
   "cell_type": "code",
   "execution_count": 33,
   "id": "70879df2-7725-443e-8208-c4954b30a138",
   "metadata": {},
   "outputs": [],
   "source": [
    "species1 <- rep(\"Deer\", 30)\n",
    "species2 <- rep(\"Reindeer\", 30)"
   ]
  },
  {
   "cell_type": "code",
   "execution_count": 34,
   "id": "01e6d094-dc38-4988-8ac2-b524dc6bcb73",
   "metadata": {},
   "outputs": [
    {
     "data": {
      "text/html": [
       "<style>\n",
       ".list-inline {list-style: none; margin:0; padding: 0}\n",
       ".list-inline>li {display: inline-block}\n",
       ".list-inline>li:not(:last-child)::after {content: \"\\00b7\"; padding: 0 .5ex}\n",
       "</style>\n",
       "<ol class=list-inline><li>'Deer'</li><li>'Deer'</li><li>'Deer'</li><li>'Deer'</li><li>'Deer'</li><li>'Deer'</li><li>'Deer'</li><li>'Deer'</li><li>'Deer'</li><li>'Deer'</li><li>'Deer'</li><li>'Deer'</li><li>'Deer'</li><li>'Deer'</li><li>'Deer'</li><li>'Deer'</li><li>'Deer'</li><li>'Deer'</li><li>'Deer'</li><li>'Deer'</li><li>'Deer'</li><li>'Deer'</li><li>'Deer'</li><li>'Deer'</li><li>'Deer'</li><li>'Deer'</li><li>'Deer'</li><li>'Deer'</li><li>'Deer'</li><li>'Deer'</li></ol>\n"
      ],
      "text/latex": [
       "\\begin{enumerate*}\n",
       "\\item 'Deer'\n",
       "\\item 'Deer'\n",
       "\\item 'Deer'\n",
       "\\item 'Deer'\n",
       "\\item 'Deer'\n",
       "\\item 'Deer'\n",
       "\\item 'Deer'\n",
       "\\item 'Deer'\n",
       "\\item 'Deer'\n",
       "\\item 'Deer'\n",
       "\\item 'Deer'\n",
       "\\item 'Deer'\n",
       "\\item 'Deer'\n",
       "\\item 'Deer'\n",
       "\\item 'Deer'\n",
       "\\item 'Deer'\n",
       "\\item 'Deer'\n",
       "\\item 'Deer'\n",
       "\\item 'Deer'\n",
       "\\item 'Deer'\n",
       "\\item 'Deer'\n",
       "\\item 'Deer'\n",
       "\\item 'Deer'\n",
       "\\item 'Deer'\n",
       "\\item 'Deer'\n",
       "\\item 'Deer'\n",
       "\\item 'Deer'\n",
       "\\item 'Deer'\n",
       "\\item 'Deer'\n",
       "\\item 'Deer'\n",
       "\\end{enumerate*}\n"
      ],
      "text/markdown": [
       "1. 'Deer'\n",
       "2. 'Deer'\n",
       "3. 'Deer'\n",
       "4. 'Deer'\n",
       "5. 'Deer'\n",
       "6. 'Deer'\n",
       "7. 'Deer'\n",
       "8. 'Deer'\n",
       "9. 'Deer'\n",
       "10. 'Deer'\n",
       "11. 'Deer'\n",
       "12. 'Deer'\n",
       "13. 'Deer'\n",
       "14. 'Deer'\n",
       "15. 'Deer'\n",
       "16. 'Deer'\n",
       "17. 'Deer'\n",
       "18. 'Deer'\n",
       "19. 'Deer'\n",
       "20. 'Deer'\n",
       "21. 'Deer'\n",
       "22. 'Deer'\n",
       "23. 'Deer'\n",
       "24. 'Deer'\n",
       "25. 'Deer'\n",
       "26. 'Deer'\n",
       "27. 'Deer'\n",
       "28. 'Deer'\n",
       "29. 'Deer'\n",
       "30. 'Deer'\n",
       "\n",
       "\n"
      ],
      "text/plain": [
       " [1] \"Deer\" \"Deer\" \"Deer\" \"Deer\" \"Deer\" \"Deer\" \"Deer\" \"Deer\" \"Deer\" \"Deer\"\n",
       "[11] \"Deer\" \"Deer\" \"Deer\" \"Deer\" \"Deer\" \"Deer\" \"Deer\" \"Deer\" \"Deer\" \"Deer\"\n",
       "[21] \"Deer\" \"Deer\" \"Deer\" \"Deer\" \"Deer\" \"Deer\" \"Deer\" \"Deer\" \"Deer\" \"Deer\""
      ]
     },
     "metadata": {},
     "output_type": "display_data"
    }
   ],
   "source": [
    "species1"
   ]
  },
  {
   "cell_type": "markdown",
   "id": "7198b1e8-6298-4fb9-a319-f7f2f723d725",
   "metadata": {},
   "source": [
    "We can also manipulate arrays. This can be necessary for tidying data, and getting it into the right format. We can for example append one array to another. We just use the c() function for this."
   ]
  },
  {
   "cell_type": "code",
   "execution_count": 36,
   "id": "750d9402-c1cc-4866-a00b-3f0e75dfe402",
   "metadata": {},
   "outputs": [
    {
     "data": {
      "text/html": [
       "<style>\n",
       ".list-inline {list-style: none; margin:0; padding: 0}\n",
       ".list-inline>li {display: inline-block}\n",
       ".list-inline>li:not(:last-child)::after {content: \"\\00b7\"; padding: 0 .5ex}\n",
       "</style>\n",
       "<ol class=list-inline><li>70.3260863660522</li><li>68.3009340449978</li><li>70.4767813705384</li><li>76.5774051238053</li><li>65.0834862444454</li><li>57.1457169254355</li><li>65.4609614428222</li><li>50.0599728153598</li><li>56.6109729296252</li><li>52.1059756887795</li><li>46.6547873987202</li><li>76.8962512516713</li><li>44.7608256323689</li><li>67.1148956897016</li><li>50.112967455411</li><li>76.2214498129505</li><li>47.7629117801614</li><li>75.6725977722079</li><li>65.3456202376707</li><li>89.6292301417553</li><li>57.8691356588137</li><li>65.4222919882282</li><li>62.7898193019298</li><li>50.1564907068439</li><li>65.0820083232434</li><li>45.8747445116074</li><li>44.0909254209345</li><li>47.4703401566697</li><li>62.311436446037</li><li>53.8853620130236</li><li>68.5097541737936</li><li>87.6194024559328</li><li>81.7400052945284</li><li>83.5000458772874</li><li>81.3520883665426</li><li>99.9670483707851</li><li>81.4107769327936</li><li>74.7261013800915</li><li>115.550309475435</li><li>85.4368082677693</li><li>88.625283728103</li><li>70.3116604977173</li><li>62.968477377093</li><li>100.71137980074</li><li>82.1647638363786</li><li>95.5915263496706</li><li>90.167055046037</li><li>65.8902415130254</li><li>80.0070579772022</li><li>68.2438979279665</li><li>93.9102255761059</li><li>68.0727511302479</li><li>68.7073728843692</li><li>67.4809779610821</li><li>66.6272045686002</li><li>91.0647099517466</li><li>84.3663022553946</li><li>81.7307361499086</li><li>81.7749404790559</li><li>69.0266859263048</li></ol>\n"
      ],
      "text/latex": [
       "\\begin{enumerate*}\n",
       "\\item 70.3260863660522\n",
       "\\item 68.3009340449978\n",
       "\\item 70.4767813705384\n",
       "\\item 76.5774051238053\n",
       "\\item 65.0834862444454\n",
       "\\item 57.1457169254355\n",
       "\\item 65.4609614428222\n",
       "\\item 50.0599728153598\n",
       "\\item 56.6109729296252\n",
       "\\item 52.1059756887795\n",
       "\\item 46.6547873987202\n",
       "\\item 76.8962512516713\n",
       "\\item 44.7608256323689\n",
       "\\item 67.1148956897016\n",
       "\\item 50.112967455411\n",
       "\\item 76.2214498129505\n",
       "\\item 47.7629117801614\n",
       "\\item 75.6725977722079\n",
       "\\item 65.3456202376707\n",
       "\\item 89.6292301417553\n",
       "\\item 57.8691356588137\n",
       "\\item 65.4222919882282\n",
       "\\item 62.7898193019298\n",
       "\\item 50.1564907068439\n",
       "\\item 65.0820083232434\n",
       "\\item 45.8747445116074\n",
       "\\item 44.0909254209345\n",
       "\\item 47.4703401566697\n",
       "\\item 62.311436446037\n",
       "\\item 53.8853620130236\n",
       "\\item 68.5097541737936\n",
       "\\item 87.6194024559328\n",
       "\\item 81.7400052945284\n",
       "\\item 83.5000458772874\n",
       "\\item 81.3520883665426\n",
       "\\item 99.9670483707851\n",
       "\\item 81.4107769327936\n",
       "\\item 74.7261013800915\n",
       "\\item 115.550309475435\n",
       "\\item 85.4368082677693\n",
       "\\item 88.625283728103\n",
       "\\item 70.3116604977173\n",
       "\\item 62.968477377093\n",
       "\\item 100.71137980074\n",
       "\\item 82.1647638363786\n",
       "\\item 95.5915263496706\n",
       "\\item 90.167055046037\n",
       "\\item 65.8902415130254\n",
       "\\item 80.0070579772022\n",
       "\\item 68.2438979279665\n",
       "\\item 93.9102255761059\n",
       "\\item 68.0727511302479\n",
       "\\item 68.7073728843692\n",
       "\\item 67.4809779610821\n",
       "\\item 66.6272045686002\n",
       "\\item 91.0647099517466\n",
       "\\item 84.3663022553946\n",
       "\\item 81.7307361499086\n",
       "\\item 81.7749404790559\n",
       "\\item 69.0266859263048\n",
       "\\end{enumerate*}\n"
      ],
      "text/markdown": [
       "1. 70.3260863660522\n",
       "2. 68.3009340449978\n",
       "3. 70.4767813705384\n",
       "4. 76.5774051238053\n",
       "5. 65.0834862444454\n",
       "6. 57.1457169254355\n",
       "7. 65.4609614428222\n",
       "8. 50.0599728153598\n",
       "9. 56.6109729296252\n",
       "10. 52.1059756887795\n",
       "11. 46.6547873987202\n",
       "12. 76.8962512516713\n",
       "13. 44.7608256323689\n",
       "14. 67.1148956897016\n",
       "15. 50.112967455411\n",
       "16. 76.2214498129505\n",
       "17. 47.7629117801614\n",
       "18. 75.6725977722079\n",
       "19. 65.3456202376707\n",
       "20. 89.6292301417553\n",
       "21. 57.8691356588137\n",
       "22. 65.4222919882282\n",
       "23. 62.7898193019298\n",
       "24. 50.1564907068439\n",
       "25. 65.0820083232434\n",
       "26. 45.8747445116074\n",
       "27. 44.0909254209345\n",
       "28. 47.4703401566697\n",
       "29. 62.311436446037\n",
       "30. 53.8853620130236\n",
       "31. 68.5097541737936\n",
       "32. 87.6194024559328\n",
       "33. 81.7400052945284\n",
       "34. 83.5000458772874\n",
       "35. 81.3520883665426\n",
       "36. 99.9670483707851\n",
       "37. 81.4107769327936\n",
       "38. 74.7261013800915\n",
       "39. 115.550309475435\n",
       "40. 85.4368082677693\n",
       "41. 88.625283728103\n",
       "42. 70.3116604977173\n",
       "43. 62.968477377093\n",
       "44. 100.71137980074\n",
       "45. 82.1647638363786\n",
       "46. 95.5915263496706\n",
       "47. 90.167055046037\n",
       "48. 65.8902415130254\n",
       "49. 80.0070579772022\n",
       "50. 68.2438979279665\n",
       "51. 93.9102255761059\n",
       "52. 68.0727511302479\n",
       "53. 68.7073728843692\n",
       "54. 67.4809779610821\n",
       "55. 66.6272045686002\n",
       "56. 91.0647099517466\n",
       "57. 84.3663022553946\n",
       "58. 81.7307361499086\n",
       "59. 81.7749404790559\n",
       "60. 69.0266859263048\n",
       "\n",
       "\n"
      ],
      "text/plain": [
       " [1]  70.32609  68.30093  70.47678  76.57741  65.08349  57.14572  65.46096\n",
       " [8]  50.05997  56.61097  52.10598  46.65479  76.89625  44.76083  67.11490\n",
       "[15]  50.11297  76.22145  47.76291  75.67260  65.34562  89.62923  57.86914\n",
       "[22]  65.42229  62.78982  50.15649  65.08201  45.87474  44.09093  47.47034\n",
       "[29]  62.31144  53.88536  68.50975  87.61940  81.74001  83.50005  81.35209\n",
       "[36]  99.96705  81.41078  74.72610 115.55031  85.43681  88.62528  70.31166\n",
       "[43]  62.96848 100.71138  82.16476  95.59153  90.16706  65.89024  80.00706\n",
       "[50]  68.24390  93.91023  68.07275  68.70737  67.48098  66.62720  91.06471\n",
       "[57]  84.36630  81.73074  81.77494  69.02669"
      ]
     },
     "metadata": {},
     "output_type": "display_data"
    }
   ],
   "source": [
    "weight <- c(weight1, weight2)\n",
    "species <- c(species1, species2)\n",
    "weight"
   ]
  },
  {
   "cell_type": "code",
   "execution_count": null,
   "id": "1257f298-4c2e-4e64-9344-93fde5cbdc30",
   "metadata": {},
   "outputs": [],
   "source": []
  },
  {
   "cell_type": "markdown",
   "id": "987c336d-d560-4c57-9d87-eee75a342173",
   "metadata": {},
   "source": [
    "This gives us our weights and species as nice tidy data arrays. We can also organise our data into spreadsheets like excel. These are called data frames in R."
   ]
  },
  {
   "cell_type": "code",
   "execution_count": 37,
   "id": "03134980-2042-4ef6-92fa-930639259b9c",
   "metadata": {},
   "outputs": [],
   "source": [
    "DeerStudy <- data.frame(weight, species)"
   ]
  },
  {
   "cell_type": "markdown",
   "id": "21b1fbbc-a349-4d17-8452-81cec475d781",
   "metadata": {},
   "source": [
    "You can always take a look at the dataframe by calling it."
   ]
  },
  {
   "cell_type": "code",
   "execution_count": 38,
   "id": "024e2e50-5a68-49f5-8ca3-bf6271649f81",
   "metadata": {},
   "outputs": [
    {
     "data": {
      "text/html": [
       "<table class=\"dataframe\">\n",
       "<caption>A data.frame: 60 × 2</caption>\n",
       "<thead>\n",
       "\t<tr><th scope=col>weight</th><th scope=col>species</th></tr>\n",
       "\t<tr><th scope=col>&lt;dbl&gt;</th><th scope=col>&lt;chr&gt;</th></tr>\n",
       "</thead>\n",
       "<tbody>\n",
       "\t<tr><td> 70.32609</td><td>Deer    </td></tr>\n",
       "\t<tr><td> 68.30093</td><td>Deer    </td></tr>\n",
       "\t<tr><td> 70.47678</td><td>Deer    </td></tr>\n",
       "\t<tr><td> 76.57741</td><td>Deer    </td></tr>\n",
       "\t<tr><td> 65.08349</td><td>Deer    </td></tr>\n",
       "\t<tr><td> 57.14572</td><td>Deer    </td></tr>\n",
       "\t<tr><td> 65.46096</td><td>Deer    </td></tr>\n",
       "\t<tr><td> 50.05997</td><td>Deer    </td></tr>\n",
       "\t<tr><td> 56.61097</td><td>Deer    </td></tr>\n",
       "\t<tr><td> 52.10598</td><td>Deer    </td></tr>\n",
       "\t<tr><td> 46.65479</td><td>Deer    </td></tr>\n",
       "\t<tr><td> 76.89625</td><td>Deer    </td></tr>\n",
       "\t<tr><td> 44.76083</td><td>Deer    </td></tr>\n",
       "\t<tr><td> 67.11490</td><td>Deer    </td></tr>\n",
       "\t<tr><td> 50.11297</td><td>Deer    </td></tr>\n",
       "\t<tr><td> 76.22145</td><td>Deer    </td></tr>\n",
       "\t<tr><td> 47.76291</td><td>Deer    </td></tr>\n",
       "\t<tr><td> 75.67260</td><td>Deer    </td></tr>\n",
       "\t<tr><td> 65.34562</td><td>Deer    </td></tr>\n",
       "\t<tr><td> 89.62923</td><td>Deer    </td></tr>\n",
       "\t<tr><td> 57.86914</td><td>Deer    </td></tr>\n",
       "\t<tr><td> 65.42229</td><td>Deer    </td></tr>\n",
       "\t<tr><td> 62.78982</td><td>Deer    </td></tr>\n",
       "\t<tr><td> 50.15649</td><td>Deer    </td></tr>\n",
       "\t<tr><td> 65.08201</td><td>Deer    </td></tr>\n",
       "\t<tr><td> 45.87474</td><td>Deer    </td></tr>\n",
       "\t<tr><td> 44.09093</td><td>Deer    </td></tr>\n",
       "\t<tr><td> 47.47034</td><td>Deer    </td></tr>\n",
       "\t<tr><td> 62.31144</td><td>Deer    </td></tr>\n",
       "\t<tr><td> 53.88536</td><td>Deer    </td></tr>\n",
       "\t<tr><td> 68.50975</td><td>Reindeer</td></tr>\n",
       "\t<tr><td> 87.61940</td><td>Reindeer</td></tr>\n",
       "\t<tr><td> 81.74001</td><td>Reindeer</td></tr>\n",
       "\t<tr><td> 83.50005</td><td>Reindeer</td></tr>\n",
       "\t<tr><td> 81.35209</td><td>Reindeer</td></tr>\n",
       "\t<tr><td> 99.96705</td><td>Reindeer</td></tr>\n",
       "\t<tr><td> 81.41078</td><td>Reindeer</td></tr>\n",
       "\t<tr><td> 74.72610</td><td>Reindeer</td></tr>\n",
       "\t<tr><td>115.55031</td><td>Reindeer</td></tr>\n",
       "\t<tr><td> 85.43681</td><td>Reindeer</td></tr>\n",
       "\t<tr><td> 88.62528</td><td>Reindeer</td></tr>\n",
       "\t<tr><td> 70.31166</td><td>Reindeer</td></tr>\n",
       "\t<tr><td> 62.96848</td><td>Reindeer</td></tr>\n",
       "\t<tr><td>100.71138</td><td>Reindeer</td></tr>\n",
       "\t<tr><td> 82.16476</td><td>Reindeer</td></tr>\n",
       "\t<tr><td> 95.59153</td><td>Reindeer</td></tr>\n",
       "\t<tr><td> 90.16706</td><td>Reindeer</td></tr>\n",
       "\t<tr><td> 65.89024</td><td>Reindeer</td></tr>\n",
       "\t<tr><td> 80.00706</td><td>Reindeer</td></tr>\n",
       "\t<tr><td> 68.24390</td><td>Reindeer</td></tr>\n",
       "\t<tr><td> 93.91023</td><td>Reindeer</td></tr>\n",
       "\t<tr><td> 68.07275</td><td>Reindeer</td></tr>\n",
       "\t<tr><td> 68.70737</td><td>Reindeer</td></tr>\n",
       "\t<tr><td> 67.48098</td><td>Reindeer</td></tr>\n",
       "\t<tr><td> 66.62720</td><td>Reindeer</td></tr>\n",
       "\t<tr><td> 91.06471</td><td>Reindeer</td></tr>\n",
       "\t<tr><td> 84.36630</td><td>Reindeer</td></tr>\n",
       "\t<tr><td> 81.73074</td><td>Reindeer</td></tr>\n",
       "\t<tr><td> 81.77494</td><td>Reindeer</td></tr>\n",
       "\t<tr><td> 69.02669</td><td>Reindeer</td></tr>\n",
       "</tbody>\n",
       "</table>\n"
      ],
      "text/latex": [
       "A data.frame: 60 × 2\n",
       "\\begin{tabular}{ll}\n",
       " weight & species\\\\\n",
       " <dbl> & <chr>\\\\\n",
       "\\hline\n",
       "\t  70.32609 & Deer    \\\\\n",
       "\t  68.30093 & Deer    \\\\\n",
       "\t  70.47678 & Deer    \\\\\n",
       "\t  76.57741 & Deer    \\\\\n",
       "\t  65.08349 & Deer    \\\\\n",
       "\t  57.14572 & Deer    \\\\\n",
       "\t  65.46096 & Deer    \\\\\n",
       "\t  50.05997 & Deer    \\\\\n",
       "\t  56.61097 & Deer    \\\\\n",
       "\t  52.10598 & Deer    \\\\\n",
       "\t  46.65479 & Deer    \\\\\n",
       "\t  76.89625 & Deer    \\\\\n",
       "\t  44.76083 & Deer    \\\\\n",
       "\t  67.11490 & Deer    \\\\\n",
       "\t  50.11297 & Deer    \\\\\n",
       "\t  76.22145 & Deer    \\\\\n",
       "\t  47.76291 & Deer    \\\\\n",
       "\t  75.67260 & Deer    \\\\\n",
       "\t  65.34562 & Deer    \\\\\n",
       "\t  89.62923 & Deer    \\\\\n",
       "\t  57.86914 & Deer    \\\\\n",
       "\t  65.42229 & Deer    \\\\\n",
       "\t  62.78982 & Deer    \\\\\n",
       "\t  50.15649 & Deer    \\\\\n",
       "\t  65.08201 & Deer    \\\\\n",
       "\t  45.87474 & Deer    \\\\\n",
       "\t  44.09093 & Deer    \\\\\n",
       "\t  47.47034 & Deer    \\\\\n",
       "\t  62.31144 & Deer    \\\\\n",
       "\t  53.88536 & Deer    \\\\\n",
       "\t  68.50975 & Reindeer\\\\\n",
       "\t  87.61940 & Reindeer\\\\\n",
       "\t  81.74001 & Reindeer\\\\\n",
       "\t  83.50005 & Reindeer\\\\\n",
       "\t  81.35209 & Reindeer\\\\\n",
       "\t  99.96705 & Reindeer\\\\\n",
       "\t  81.41078 & Reindeer\\\\\n",
       "\t  74.72610 & Reindeer\\\\\n",
       "\t 115.55031 & Reindeer\\\\\n",
       "\t  85.43681 & Reindeer\\\\\n",
       "\t  88.62528 & Reindeer\\\\\n",
       "\t  70.31166 & Reindeer\\\\\n",
       "\t  62.96848 & Reindeer\\\\\n",
       "\t 100.71138 & Reindeer\\\\\n",
       "\t  82.16476 & Reindeer\\\\\n",
       "\t  95.59153 & Reindeer\\\\\n",
       "\t  90.16706 & Reindeer\\\\\n",
       "\t  65.89024 & Reindeer\\\\\n",
       "\t  80.00706 & Reindeer\\\\\n",
       "\t  68.24390 & Reindeer\\\\\n",
       "\t  93.91023 & Reindeer\\\\\n",
       "\t  68.07275 & Reindeer\\\\\n",
       "\t  68.70737 & Reindeer\\\\\n",
       "\t  67.48098 & Reindeer\\\\\n",
       "\t  66.62720 & Reindeer\\\\\n",
       "\t  91.06471 & Reindeer\\\\\n",
       "\t  84.36630 & Reindeer\\\\\n",
       "\t  81.73074 & Reindeer\\\\\n",
       "\t  81.77494 & Reindeer\\\\\n",
       "\t  69.02669 & Reindeer\\\\\n",
       "\\end{tabular}\n"
      ],
      "text/markdown": [
       "\n",
       "A data.frame: 60 × 2\n",
       "\n",
       "| weight &lt;dbl&gt; | species &lt;chr&gt; |\n",
       "|---|---|\n",
       "|  70.32609 | Deer     |\n",
       "|  68.30093 | Deer     |\n",
       "|  70.47678 | Deer     |\n",
       "|  76.57741 | Deer     |\n",
       "|  65.08349 | Deer     |\n",
       "|  57.14572 | Deer     |\n",
       "|  65.46096 | Deer     |\n",
       "|  50.05997 | Deer     |\n",
       "|  56.61097 | Deer     |\n",
       "|  52.10598 | Deer     |\n",
       "|  46.65479 | Deer     |\n",
       "|  76.89625 | Deer     |\n",
       "|  44.76083 | Deer     |\n",
       "|  67.11490 | Deer     |\n",
       "|  50.11297 | Deer     |\n",
       "|  76.22145 | Deer     |\n",
       "|  47.76291 | Deer     |\n",
       "|  75.67260 | Deer     |\n",
       "|  65.34562 | Deer     |\n",
       "|  89.62923 | Deer     |\n",
       "|  57.86914 | Deer     |\n",
       "|  65.42229 | Deer     |\n",
       "|  62.78982 | Deer     |\n",
       "|  50.15649 | Deer     |\n",
       "|  65.08201 | Deer     |\n",
       "|  45.87474 | Deer     |\n",
       "|  44.09093 | Deer     |\n",
       "|  47.47034 | Deer     |\n",
       "|  62.31144 | Deer     |\n",
       "|  53.88536 | Deer     |\n",
       "|  68.50975 | Reindeer |\n",
       "|  87.61940 | Reindeer |\n",
       "|  81.74001 | Reindeer |\n",
       "|  83.50005 | Reindeer |\n",
       "|  81.35209 | Reindeer |\n",
       "|  99.96705 | Reindeer |\n",
       "|  81.41078 | Reindeer |\n",
       "|  74.72610 | Reindeer |\n",
       "| 115.55031 | Reindeer |\n",
       "|  85.43681 | Reindeer |\n",
       "|  88.62528 | Reindeer |\n",
       "|  70.31166 | Reindeer |\n",
       "|  62.96848 | Reindeer |\n",
       "| 100.71138 | Reindeer |\n",
       "|  82.16476 | Reindeer |\n",
       "|  95.59153 | Reindeer |\n",
       "|  90.16706 | Reindeer |\n",
       "|  65.89024 | Reindeer |\n",
       "|  80.00706 | Reindeer |\n",
       "|  68.24390 | Reindeer |\n",
       "|  93.91023 | Reindeer |\n",
       "|  68.07275 | Reindeer |\n",
       "|  68.70737 | Reindeer |\n",
       "|  67.48098 | Reindeer |\n",
       "|  66.62720 | Reindeer |\n",
       "|  91.06471 | Reindeer |\n",
       "|  84.36630 | Reindeer |\n",
       "|  81.73074 | Reindeer |\n",
       "|  81.77494 | Reindeer |\n",
       "|  69.02669 | Reindeer |\n",
       "\n"
      ],
      "text/plain": [
       "   weight    species \n",
       "1   70.32609 Deer    \n",
       "2   68.30093 Deer    \n",
       "3   70.47678 Deer    \n",
       "4   76.57741 Deer    \n",
       "5   65.08349 Deer    \n",
       "6   57.14572 Deer    \n",
       "7   65.46096 Deer    \n",
       "8   50.05997 Deer    \n",
       "9   56.61097 Deer    \n",
       "10  52.10598 Deer    \n",
       "11  46.65479 Deer    \n",
       "12  76.89625 Deer    \n",
       "13  44.76083 Deer    \n",
       "14  67.11490 Deer    \n",
       "15  50.11297 Deer    \n",
       "16  76.22145 Deer    \n",
       "17  47.76291 Deer    \n",
       "18  75.67260 Deer    \n",
       "19  65.34562 Deer    \n",
       "20  89.62923 Deer    \n",
       "21  57.86914 Deer    \n",
       "22  65.42229 Deer    \n",
       "23  62.78982 Deer    \n",
       "24  50.15649 Deer    \n",
       "25  65.08201 Deer    \n",
       "26  45.87474 Deer    \n",
       "27  44.09093 Deer    \n",
       "28  47.47034 Deer    \n",
       "29  62.31144 Deer    \n",
       "30  53.88536 Deer    \n",
       "31  68.50975 Reindeer\n",
       "32  87.61940 Reindeer\n",
       "33  81.74001 Reindeer\n",
       "34  83.50005 Reindeer\n",
       "35  81.35209 Reindeer\n",
       "36  99.96705 Reindeer\n",
       "37  81.41078 Reindeer\n",
       "38  74.72610 Reindeer\n",
       "39 115.55031 Reindeer\n",
       "40  85.43681 Reindeer\n",
       "41  88.62528 Reindeer\n",
       "42  70.31166 Reindeer\n",
       "43  62.96848 Reindeer\n",
       "44 100.71138 Reindeer\n",
       "45  82.16476 Reindeer\n",
       "46  95.59153 Reindeer\n",
       "47  90.16706 Reindeer\n",
       "48  65.89024 Reindeer\n",
       "49  80.00706 Reindeer\n",
       "50  68.24390 Reindeer\n",
       "51  93.91023 Reindeer\n",
       "52  68.07275 Reindeer\n",
       "53  68.70737 Reindeer\n",
       "54  67.48098 Reindeer\n",
       "55  66.62720 Reindeer\n",
       "56  91.06471 Reindeer\n",
       "57  84.36630 Reindeer\n",
       "58  81.73074 Reindeer\n",
       "59  81.77494 Reindeer\n",
       "60  69.02669 Reindeer"
      ]
     },
     "metadata": {},
     "output_type": "display_data"
    }
   ],
   "source": [
    "DeerStudy"
   ]
  },
  {
   "cell_type": "markdown",
   "id": "9311c1ee-e60f-46b7-a56a-1e15095e59bc",
   "metadata": {},
   "source": [
    "We can look at just the top of this spreadsheet."
   ]
  },
  {
   "cell_type": "code",
   "execution_count": 39,
   "id": "10d529da-ef20-41b9-9ec7-908d2f6a4b69",
   "metadata": {},
   "outputs": [
    {
     "data": {
      "text/html": [
       "<table class=\"dataframe\">\n",
       "<caption>A data.frame: 6 × 2</caption>\n",
       "<thead>\n",
       "\t<tr><th></th><th scope=col>weight</th><th scope=col>species</th></tr>\n",
       "\t<tr><th></th><th scope=col>&lt;dbl&gt;</th><th scope=col>&lt;chr&gt;</th></tr>\n",
       "</thead>\n",
       "<tbody>\n",
       "\t<tr><th scope=row>1</th><td>70.32609</td><td>Deer</td></tr>\n",
       "\t<tr><th scope=row>2</th><td>68.30093</td><td>Deer</td></tr>\n",
       "\t<tr><th scope=row>3</th><td>70.47678</td><td>Deer</td></tr>\n",
       "\t<tr><th scope=row>4</th><td>76.57741</td><td>Deer</td></tr>\n",
       "\t<tr><th scope=row>5</th><td>65.08349</td><td>Deer</td></tr>\n",
       "\t<tr><th scope=row>6</th><td>57.14572</td><td>Deer</td></tr>\n",
       "</tbody>\n",
       "</table>\n"
      ],
      "text/latex": [
       "A data.frame: 6 × 2\n",
       "\\begin{tabular}{r|ll}\n",
       "  & weight & species\\\\\n",
       "  & <dbl> & <chr>\\\\\n",
       "\\hline\n",
       "\t1 & 70.32609 & Deer\\\\\n",
       "\t2 & 68.30093 & Deer\\\\\n",
       "\t3 & 70.47678 & Deer\\\\\n",
       "\t4 & 76.57741 & Deer\\\\\n",
       "\t5 & 65.08349 & Deer\\\\\n",
       "\t6 & 57.14572 & Deer\\\\\n",
       "\\end{tabular}\n"
      ],
      "text/markdown": [
       "\n",
       "A data.frame: 6 × 2\n",
       "\n",
       "| <!--/--> | weight &lt;dbl&gt; | species &lt;chr&gt; |\n",
       "|---|---|---|\n",
       "| 1 | 70.32609 | Deer |\n",
       "| 2 | 68.30093 | Deer |\n",
       "| 3 | 70.47678 | Deer |\n",
       "| 4 | 76.57741 | Deer |\n",
       "| 5 | 65.08349 | Deer |\n",
       "| 6 | 57.14572 | Deer |\n",
       "\n"
      ],
      "text/plain": [
       "  weight   species\n",
       "1 70.32609 Deer   \n",
       "2 68.30093 Deer   \n",
       "3 70.47678 Deer   \n",
       "4 76.57741 Deer   \n",
       "5 65.08349 Deer   \n",
       "6 57.14572 Deer   "
      ]
     },
     "metadata": {},
     "output_type": "display_data"
    }
   ],
   "source": [
    "head(DeerStudy)"
   ]
  },
  {
   "cell_type": "markdown",
   "id": "21dea1b3-09c3-40f1-91d0-896897eebb3b",
   "metadata": {},
   "source": [
    "We can also pick out specific variables to do stuff to. We use the '$' for this."
   ]
  },
  {
   "cell_type": "code",
   "execution_count": 40,
   "id": "eb8f3359-f073-4ba3-9ac2-0fa26f38e133",
   "metadata": {},
   "outputs": [
    {
     "data": {
      "text/html": [
       "<style>\n",
       ".list-inline {list-style: none; margin:0; padding: 0}\n",
       ".list-inline>li {display: inline-block}\n",
       ".list-inline>li:not(:last-child)::after {content: \"\\00b7\"; padding: 0 .5ex}\n",
       "</style>\n",
       "<ol class=list-inline><li>'Deer'</li><li>'Deer'</li><li>'Deer'</li><li>'Deer'</li><li>'Deer'</li><li>'Deer'</li><li>'Deer'</li><li>'Deer'</li><li>'Deer'</li><li>'Deer'</li><li>'Deer'</li><li>'Deer'</li><li>'Deer'</li><li>'Deer'</li><li>'Deer'</li><li>'Deer'</li><li>'Deer'</li><li>'Deer'</li><li>'Deer'</li><li>'Deer'</li><li>'Deer'</li><li>'Deer'</li><li>'Deer'</li><li>'Deer'</li><li>'Deer'</li><li>'Deer'</li><li>'Deer'</li><li>'Deer'</li><li>'Deer'</li><li>'Deer'</li><li>'Reindeer'</li><li>'Reindeer'</li><li>'Reindeer'</li><li>'Reindeer'</li><li>'Reindeer'</li><li>'Reindeer'</li><li>'Reindeer'</li><li>'Reindeer'</li><li>'Reindeer'</li><li>'Reindeer'</li><li>'Reindeer'</li><li>'Reindeer'</li><li>'Reindeer'</li><li>'Reindeer'</li><li>'Reindeer'</li><li>'Reindeer'</li><li>'Reindeer'</li><li>'Reindeer'</li><li>'Reindeer'</li><li>'Reindeer'</li><li>'Reindeer'</li><li>'Reindeer'</li><li>'Reindeer'</li><li>'Reindeer'</li><li>'Reindeer'</li><li>'Reindeer'</li><li>'Reindeer'</li><li>'Reindeer'</li><li>'Reindeer'</li><li>'Reindeer'</li></ol>\n"
      ],
      "text/latex": [
       "\\begin{enumerate*}\n",
       "\\item 'Deer'\n",
       "\\item 'Deer'\n",
       "\\item 'Deer'\n",
       "\\item 'Deer'\n",
       "\\item 'Deer'\n",
       "\\item 'Deer'\n",
       "\\item 'Deer'\n",
       "\\item 'Deer'\n",
       "\\item 'Deer'\n",
       "\\item 'Deer'\n",
       "\\item 'Deer'\n",
       "\\item 'Deer'\n",
       "\\item 'Deer'\n",
       "\\item 'Deer'\n",
       "\\item 'Deer'\n",
       "\\item 'Deer'\n",
       "\\item 'Deer'\n",
       "\\item 'Deer'\n",
       "\\item 'Deer'\n",
       "\\item 'Deer'\n",
       "\\item 'Deer'\n",
       "\\item 'Deer'\n",
       "\\item 'Deer'\n",
       "\\item 'Deer'\n",
       "\\item 'Deer'\n",
       "\\item 'Deer'\n",
       "\\item 'Deer'\n",
       "\\item 'Deer'\n",
       "\\item 'Deer'\n",
       "\\item 'Deer'\n",
       "\\item 'Reindeer'\n",
       "\\item 'Reindeer'\n",
       "\\item 'Reindeer'\n",
       "\\item 'Reindeer'\n",
       "\\item 'Reindeer'\n",
       "\\item 'Reindeer'\n",
       "\\item 'Reindeer'\n",
       "\\item 'Reindeer'\n",
       "\\item 'Reindeer'\n",
       "\\item 'Reindeer'\n",
       "\\item 'Reindeer'\n",
       "\\item 'Reindeer'\n",
       "\\item 'Reindeer'\n",
       "\\item 'Reindeer'\n",
       "\\item 'Reindeer'\n",
       "\\item 'Reindeer'\n",
       "\\item 'Reindeer'\n",
       "\\item 'Reindeer'\n",
       "\\item 'Reindeer'\n",
       "\\item 'Reindeer'\n",
       "\\item 'Reindeer'\n",
       "\\item 'Reindeer'\n",
       "\\item 'Reindeer'\n",
       "\\item 'Reindeer'\n",
       "\\item 'Reindeer'\n",
       "\\item 'Reindeer'\n",
       "\\item 'Reindeer'\n",
       "\\item 'Reindeer'\n",
       "\\item 'Reindeer'\n",
       "\\item 'Reindeer'\n",
       "\\end{enumerate*}\n"
      ],
      "text/markdown": [
       "1. 'Deer'\n",
       "2. 'Deer'\n",
       "3. 'Deer'\n",
       "4. 'Deer'\n",
       "5. 'Deer'\n",
       "6. 'Deer'\n",
       "7. 'Deer'\n",
       "8. 'Deer'\n",
       "9. 'Deer'\n",
       "10. 'Deer'\n",
       "11. 'Deer'\n",
       "12. 'Deer'\n",
       "13. 'Deer'\n",
       "14. 'Deer'\n",
       "15. 'Deer'\n",
       "16. 'Deer'\n",
       "17. 'Deer'\n",
       "18. 'Deer'\n",
       "19. 'Deer'\n",
       "20. 'Deer'\n",
       "21. 'Deer'\n",
       "22. 'Deer'\n",
       "23. 'Deer'\n",
       "24. 'Deer'\n",
       "25. 'Deer'\n",
       "26. 'Deer'\n",
       "27. 'Deer'\n",
       "28. 'Deer'\n",
       "29. 'Deer'\n",
       "30. 'Deer'\n",
       "31. 'Reindeer'\n",
       "32. 'Reindeer'\n",
       "33. 'Reindeer'\n",
       "34. 'Reindeer'\n",
       "35. 'Reindeer'\n",
       "36. 'Reindeer'\n",
       "37. 'Reindeer'\n",
       "38. 'Reindeer'\n",
       "39. 'Reindeer'\n",
       "40. 'Reindeer'\n",
       "41. 'Reindeer'\n",
       "42. 'Reindeer'\n",
       "43. 'Reindeer'\n",
       "44. 'Reindeer'\n",
       "45. 'Reindeer'\n",
       "46. 'Reindeer'\n",
       "47. 'Reindeer'\n",
       "48. 'Reindeer'\n",
       "49. 'Reindeer'\n",
       "50. 'Reindeer'\n",
       "51. 'Reindeer'\n",
       "52. 'Reindeer'\n",
       "53. 'Reindeer'\n",
       "54. 'Reindeer'\n",
       "55. 'Reindeer'\n",
       "56. 'Reindeer'\n",
       "57. 'Reindeer'\n",
       "58. 'Reindeer'\n",
       "59. 'Reindeer'\n",
       "60. 'Reindeer'\n",
       "\n",
       "\n"
      ],
      "text/plain": [
       " [1] \"Deer\"     \"Deer\"     \"Deer\"     \"Deer\"     \"Deer\"     \"Deer\"    \n",
       " [7] \"Deer\"     \"Deer\"     \"Deer\"     \"Deer\"     \"Deer\"     \"Deer\"    \n",
       "[13] \"Deer\"     \"Deer\"     \"Deer\"     \"Deer\"     \"Deer\"     \"Deer\"    \n",
       "[19] \"Deer\"     \"Deer\"     \"Deer\"     \"Deer\"     \"Deer\"     \"Deer\"    \n",
       "[25] \"Deer\"     \"Deer\"     \"Deer\"     \"Deer\"     \"Deer\"     \"Deer\"    \n",
       "[31] \"Reindeer\" \"Reindeer\" \"Reindeer\" \"Reindeer\" \"Reindeer\" \"Reindeer\"\n",
       "[37] \"Reindeer\" \"Reindeer\" \"Reindeer\" \"Reindeer\" \"Reindeer\" \"Reindeer\"\n",
       "[43] \"Reindeer\" \"Reindeer\" \"Reindeer\" \"Reindeer\" \"Reindeer\" \"Reindeer\"\n",
       "[49] \"Reindeer\" \"Reindeer\" \"Reindeer\" \"Reindeer\" \"Reindeer\" \"Reindeer\"\n",
       "[55] \"Reindeer\" \"Reindeer\" \"Reindeer\" \"Reindeer\" \"Reindeer\" \"Reindeer\""
      ]
     },
     "metadata": {},
     "output_type": "display_data"
    }
   ],
   "source": [
    "DeerStudy$species"
   ]
  },
  {
   "cell_type": "markdown",
   "id": "fdc5873a-36a7-4862-9640-213902b19a78",
   "metadata": {},
   "source": [
    "We can also save our spreadsheet."
   ]
  },
  {
   "cell_type": "code",
   "execution_count": 42,
   "id": "7f598794-26c4-4f25-a274-049e1b5e5838",
   "metadata": {},
   "outputs": [],
   "source": [
    "save(DeerStudy, file = \"DeerStudy.RDate\")"
   ]
  },
  {
   "cell_type": "markdown",
   "id": "821c0ed2-217d-43a5-82b2-18871578dbbd",
   "metadata": {
    "jp-MarkdownHeadingCollapsed": true
   },
   "source": [
    "# "
   ]
  },
  {
   "cell_type": "markdown",
   "id": "372cb28c-dcc1-470f-af05-d0cc651d1b5e",
   "metadata": {
    "jp-MarkdownHeadingCollapsed": true
   },
   "source": [
    "# Part 3 - Basic plotting"
   ]
  },
  {
   "cell_type": "markdown",
   "id": "183f8f30-0e1f-45de-9999-f9b31e06b85a",
   "metadata": {},
   "source": [
    "Plotting is very important. It allows you to see relationships between variables. There are different kinds of plots that are useful for different kinds of relationships."
   ]
  },
  {
   "cell_type": "markdown",
   "id": "a17a5ec9-1a42-4ba2-bc41-15632b56468f",
   "metadata": {},
   "source": [
    "If you want to plot something very quickly, base R (when you don't download any extra packages) has some great options."
   ]
  },
  {
   "cell_type": "markdown",
   "id": "4e3d1012-0552-4e5a-9ad6-668825b31d60",
   "metadata": {},
   "source": [
    "To visualize the relationship between two continuous variables, you can use a scatterplot..."
   ]
  },
  {
   "cell_type": "code",
   "execution_count": 44,
   "id": "6d67b8a1-6a17-4e49-854e-a063fcf50a6f",
   "metadata": {},
   "outputs": [
    {
     "data": {
      "image/png": "[encoded data removed]",
      "text/plain": [
       "plot without title"
      ]
     },
     "metadata": {
      "image/png": {
       "height": 420,
       "width": 420
      }
     },
     "output_type": "display_data"
    }
   ],
   "source": [
    "plot(A, C)"
   ]
  },
  {
   "cell_type": "code",
   "execution_count": 45,
   "id": "40ad0a16-c32f-4e96-b971-40cc6fb17f16",
   "metadata": {},
   "outputs": [
    {
     "data": {
      "image/png": "[encoded data removed]",
      "text/plain": [
       "plot without title"
      ]
     },
     "metadata": {
      "image/png": {
       "height": 420,
       "width": 420
      }
     },
     "output_type": "display_data"
    }
   ],
   "source": [
    "plot(C~A)"
   ]
  },
  {
   "cell_type": "markdown",
   "id": "2f4bd725-a55b-4052-bcbe-09e8c8e6b49b",
   "metadata": {},
   "source": [
    "... while boxplots tell you the relationship between categorical and continuous variables."
   ]
  },
  {
   "cell_type": "code",
   "execution_count": 46,
   "id": "544e77c0-1f05-4b15-9a01-97b2bfb32bd9",
   "metadata": {},
   "outputs": [
    {
     "data": {
      "image/png": "[encoded data removed]",
      "text/plain": [
       "plot without title"
      ]
     },
     "metadata": {
      "image/png": {
       "height": 420,
       "width": 420
      }
     },
     "output_type": "display_data"
    }
   ],
   "source": [
    "boxplot(weight~species)"
   ]
  },
  {
   "cell_type": "markdown",
   "id": "8a26b67a-2d29-4b1e-a4f7-a09c4fc99c95",
   "metadata": {},
   "source": [
    "The tilde \"~\" is important in R. It can be read to mean \"as a function of\", or \"distributed as\". You will see it again, and you will get used to it. This little syntactic difference is important, because it can allow us to make the same plot using different kinds of data structures. "
   ]
  },
  {
   "cell_type": "markdown",
   "id": "b69a4905-15de-4f77-8805-a12905fb2b9a",
   "metadata": {},
   "source": [
    "These plots are a bit ugly. Even base R can make beautiful plots, you can look at options to fancy plots up using the ?plot command."
   ]
  },
  {
   "cell_type": "markdown",
   "id": "45533359-55d9-494b-967b-d555b3ad2206",
   "metadata": {},
   "source": [
    "A lot of the R community uses a package called ggplot2 to plot. It is very well-documented online and has a lot of options for customization. Packages are like modules in Python. We'll talk a bit more about packages next class. For now, let's just install and load:"
   ]
  },
  {
   "cell_type": "code",
   "execution_count": 51,
   "id": "aabd77ff-acd8-409a-980d-67b97ef71e7d",
   "metadata": {
    "scrolled": true
   },
   "outputs": [
    {
     "name": "stderr",
     "output_type": "stream",
     "text": [
      "Installing package into ‘/usr/local/spark-3.5.2-bin-hadoop3/R/lib’\n",
      "(as ‘lib’ is unspecified)\n",
      "\n",
      "Installing package into ‘/usr/local/spark-3.5.2-bin-hadoop3/R/lib’\n",
      "(as ‘lib’ is unspecified)\n",
      "\n"
     ]
    },
    {
     "ename": "ERROR",
     "evalue": "Error in eval(expr, envir, enclos): object 'install' not found\n",
     "output_type": "error",
     "traceback": [
      "Error in eval(expr, envir, enclos): object 'install' not found\nTraceback:\n"
     ]
    }
   ],
   "source": [
    "install.packages(\"dplyr\")\n",
    "install.packages(\"ggplot2\")"
   ]
  },
  {
   "cell_type": "code",
   "execution_count": 52,
   "id": "f75d56cf-57b3-4789-b072-11a88be731f0",
   "metadata": {},
   "outputs": [
    {
     "name": "stderr",
     "output_type": "stream",
     "text": [
      "\n",
      "Attaching package: ‘dplyr’\n",
      "\n",
      "\n",
      "The following objects are masked from ‘package:stats’:\n",
      "\n",
      "    filter, lag\n",
      "\n",
      "\n",
      "The following objects are masked from ‘package:base’:\n",
      "\n",
      "    intersect, setdiff, setequal, union\n",
      "\n",
      "\n"
     ]
    }
   ],
   "source": [
    "library(ggplot2)\n",
    "library(dplyr)"
   ]
  },
  {
   "cell_type": "code",
   "execution_count": 53,
   "id": "a3a9cf28-9973-42ef-bfd7-a0c82dacb1e3",
   "metadata": {},
   "outputs": [
    {
     "data": {
      "image/png": "[encoded data removed]",
      "text/plain": [
       "plot without title"
      ]
     },
     "metadata": {
      "image/png": {
       "height": 420,
       "width": 420
      }
     },
     "output_type": "display_data"
    }
   ],
   "source": [
    "ggplot(DeerStudy,\n",
    "          aes(x = species,\n",
    "              y = weight)) +\n",
    "  geom_boxplot() \n"
   ]
  },
  {
   "cell_type": "markdown",
   "id": "bccf3fad-3267-4eba-a8c5-69d7cdee1ee8",
   "metadata": {},
   "source": [
    "ggplot is best for complex plots, \"to make it beautiful\". "
   ]
  },
  {
   "cell_type": "markdown",
   "id": "8d84d33e-8796-44de-96b1-4b752be7fc62",
   "metadata": {},
   "source": [
    "ggplot2 is a very modular way of plotting. You give commands in a sequential order, and the output of one command is passed to the command with a '+' operator."
   ]
  },
  {
   "cell_type": "markdown",
   "id": "910c3e21-f8d0-43aa-98aa-61c7882eef3c",
   "metadata": {},
   "source": [
    "The first block (before the + sign) specifies the data we want to use and how we want to use it. Using + signs, we can add extra options, for example the style of plot. You can really go crazy with the customizations!"
   ]
  },
  {
   "cell_type": "markdown",
   "id": "21167b52-9d08-47f1-be92-6495c1c40567",
   "metadata": {},
   "source": [
    "remember the plus signs. very important "
   ]
  },
  {
   "cell_type": "code",
   "execution_count": 71,
   "id": "316dd5c9-f806-4a97-b37e-7445f65b6d30",
   "metadata": {},
   "outputs": [
    {
     "data": {
      "image/png": "[encoded data removed]",
      "text/plain": [
       "plot without title"
      ]
     },
     "metadata": {
      "image/png": {
       "height": 420,
       "width": 420
      }
     },
     "output_type": "display_data"
    }
   ],
   "source": [
    "ggplot(DeerStudy, \n",
    "       aes(x = species,\n",
    "           y = weight,\n",
    "           fill = species)) + \n",
    "   geom_boxplot() +\n",
    "   scale_fill_manual(values = c(\"gold\", \"darkgreen\")) +\n",
    "   labs(title = \"Deer Weight\", \n",
    "        x = \"Species\", \n",
    "        y = \"Weight (kg)\") +\n",
    "   theme_minimal()"
   ]
  },
  {
   "cell_type": "markdown",
   "id": "9295e5bb-1c71-4831-88f5-75d2166b2a01",
   "metadata": {},
   "source": [
    "0There are several excellent resources for learning about ggplot2. Try to play around with them. For example: https://rstudio.github.io/cheatsheets/html/data-visualization.html"
   ]
  },
  {
   "cell_type": "markdown",
   "id": "3da06e77-614e-42da-b9cf-157a7fea72e3",
   "metadata": {},
   "source": [
    "You have encountered some basic plotting functions in R. You have learned the tilde operator. You have learned how to search the help documentation."
   ]
  },
  {
   "cell_type": "markdown",
   "id": "66fb8cb2-317b-4a2a-948d-8e449fc2651b",
   "metadata": {},
   "source": [
    "# Part 4 - Indexing and basic statistics"
   ]
  },
  {
   "cell_type": "markdown",
   "id": "50f48782-ca8d-435f-af20-6f01228c3a50",
   "metadata": {},
   "source": [
    "R is a statistical language, and so it has functions for running statistical operations and models."
   ]
  },
  {
   "cell_type": "markdown",
   "id": "3e477b15-ea0e-4643-8566-17f0a08d0dfc",
   "metadata": {},
   "source": [
    "We can calculate the average a of variable:"
   ]
  },
  {
   "cell_type": "code",
   "execution_count": 60,
   "id": "a6604c10-f68e-47fc-bed9-23bf9517abc6",
   "metadata": {},
   "outputs": [
    {
     "data": {
      "text/html": [
       "71.0754662697253"
      ],
      "text/latex": [
       "71.0754662697253"
      ],
      "text/markdown": [
       "71.0754662697253"
      ],
      "text/plain": [
       "[1] 71.07547"
      ]
     },
     "metadata": {},
     "output_type": "display_data"
    }
   ],
   "source": [
    "mean(weight)"
   ]
  },
  {
   "cell_type": "markdown",
   "id": "1d89257f-15ce-43ed-8f06-2d3d27661a62",
   "metadata": {},
   "source": [
    "Sometimes we are interested in sorting or carving our data up, and doing stats on a part of it. We can use indexing for this. For example, we might just want the average of each species in our study"
   ]
  },
  {
   "cell_type": "markdown",
   "id": "a56ecdb1-3f3e-466a-ba70-f9c324648a89",
   "metadata": {},
   "source": [
    "Let's look at how to extract weights for either just the Deers or the Reindeers in our study"
   ]
  },
  {
   "cell_type": "code",
   "execution_count": 61,
   "id": "9facde6b-0bcf-4f3f-8c63-21dd37d7b64d",
   "metadata": {},
   "outputs": [
    {
     "data": {
      "text/html": [
       "<style>\n",
       ".list-inline {list-style: none; margin:0; padding: 0}\n",
       ".list-inline>li {display: inline-block}\n",
       ".list-inline>li:not(:last-child)::after {content: \"\\00b7\"; padding: 0 .5ex}\n",
       "</style>\n",
       "<ol class=list-inline><li>70.3260863660522</li><li>68.3009340449978</li><li>70.4767813705384</li><li>76.5774051238053</li><li>65.0834862444454</li><li>57.1457169254355</li><li>65.4609614428222</li><li>50.0599728153598</li><li>56.6109729296252</li><li>52.1059756887795</li><li>46.6547873987202</li><li>76.8962512516713</li><li>44.7608256323689</li><li>67.1148956897016</li><li>50.112967455411</li><li>76.2214498129505</li><li>47.7629117801614</li><li>75.6725977722079</li><li>65.3456202376707</li><li>89.6292301417553</li><li>57.8691356588137</li><li>65.4222919882282</li><li>62.7898193019298</li><li>50.1564907068439</li><li>65.0820083232434</li><li>45.8747445116074</li><li>44.0909254209345</li><li>47.4703401566697</li><li>62.311436446037</li><li>53.8853620130236</li></ol>\n"
      ],
      "text/latex": [
       "\\begin{enumerate*}\n",
       "\\item 70.3260863660522\n",
       "\\item 68.3009340449978\n",
       "\\item 70.4767813705384\n",
       "\\item 76.5774051238053\n",
       "\\item 65.0834862444454\n",
       "\\item 57.1457169254355\n",
       "\\item 65.4609614428222\n",
       "\\item 50.0599728153598\n",
       "\\item 56.6109729296252\n",
       "\\item 52.1059756887795\n",
       "\\item 46.6547873987202\n",
       "\\item 76.8962512516713\n",
       "\\item 44.7608256323689\n",
       "\\item 67.1148956897016\n",
       "\\item 50.112967455411\n",
       "\\item 76.2214498129505\n",
       "\\item 47.7629117801614\n",
       "\\item 75.6725977722079\n",
       "\\item 65.3456202376707\n",
       "\\item 89.6292301417553\n",
       "\\item 57.8691356588137\n",
       "\\item 65.4222919882282\n",
       "\\item 62.7898193019298\n",
       "\\item 50.1564907068439\n",
       "\\item 65.0820083232434\n",
       "\\item 45.8747445116074\n",
       "\\item 44.0909254209345\n",
       "\\item 47.4703401566697\n",
       "\\item 62.311436446037\n",
       "\\item 53.8853620130236\n",
       "\\end{enumerate*}\n"
      ],
      "text/markdown": [
       "1. 70.3260863660522\n",
       "2. 68.3009340449978\n",
       "3. 70.4767813705384\n",
       "4. 76.5774051238053\n",
       "5. 65.0834862444454\n",
       "6. 57.1457169254355\n",
       "7. 65.4609614428222\n",
       "8. 50.0599728153598\n",
       "9. 56.6109729296252\n",
       "10. 52.1059756887795\n",
       "11. 46.6547873987202\n",
       "12. 76.8962512516713\n",
       "13. 44.7608256323689\n",
       "14. 67.1148956897016\n",
       "15. 50.112967455411\n",
       "16. 76.2214498129505\n",
       "17. 47.7629117801614\n",
       "18. 75.6725977722079\n",
       "19. 65.3456202376707\n",
       "20. 89.6292301417553\n",
       "21. 57.8691356588137\n",
       "22. 65.4222919882282\n",
       "23. 62.7898193019298\n",
       "24. 50.1564907068439\n",
       "25. 65.0820083232434\n",
       "26. 45.8747445116074\n",
       "27. 44.0909254209345\n",
       "28. 47.4703401566697\n",
       "29. 62.311436446037\n",
       "30. 53.8853620130236\n",
       "\n",
       "\n"
      ],
      "text/plain": [
       " [1] 70.32609 68.30093 70.47678 76.57741 65.08349 57.14572 65.46096 50.05997\n",
       " [9] 56.61097 52.10598 46.65479 76.89625 44.76083 67.11490 50.11297 76.22145\n",
       "[17] 47.76291 75.67260 65.34562 89.62923 57.86914 65.42229 62.78982 50.15649\n",
       "[25] 65.08201 45.87474 44.09093 47.47034 62.31144 53.88536"
      ]
     },
     "metadata": {},
     "output_type": "display_data"
    }
   ],
   "source": [
    "weight[species==\"Deer\"]"
   ]
  },
  {
   "cell_type": "code",
   "execution_count": 62,
   "id": "108ad9c9-ce0d-48dc-a4d5-eeba1d4bb491",
   "metadata": {},
   "outputs": [
    {
     "data": {
      "text/html": [
       "<style>\n",
       ".list-inline {list-style: none; margin:0; padding: 0}\n",
       ".list-inline>li {display: inline-block}\n",
       ".list-inline>li:not(:last-child)::after {content: \"\\00b7\"; padding: 0 .5ex}\n",
       "</style>\n",
       "<ol class=list-inline><li>68.5097541737936</li><li>87.6194024559328</li><li>81.7400052945284</li><li>83.5000458772874</li><li>81.3520883665426</li><li>99.9670483707851</li><li>81.4107769327936</li><li>74.7261013800915</li><li>115.550309475435</li><li>85.4368082677693</li><li>88.625283728103</li><li>70.3116604977173</li><li>62.968477377093</li><li>100.71137980074</li><li>82.1647638363786</li><li>95.5915263496706</li><li>90.167055046037</li><li>65.8902415130254</li><li>80.0070579772022</li><li>68.2438979279665</li><li>93.9102255761059</li><li>68.0727511302479</li><li>68.7073728843692</li><li>67.4809779610821</li><li>66.6272045686002</li><li>91.0647099517466</li><li>84.3663022553946</li><li>81.7307361499086</li><li>81.7749404790559</li><li>69.0266859263048</li></ol>\n"
      ],
      "text/latex": [
       "\\begin{enumerate*}\n",
       "\\item 68.5097541737936\n",
       "\\item 87.6194024559328\n",
       "\\item 81.7400052945284\n",
       "\\item 83.5000458772874\n",
       "\\item 81.3520883665426\n",
       "\\item 99.9670483707851\n",
       "\\item 81.4107769327936\n",
       "\\item 74.7261013800915\n",
       "\\item 115.550309475435\n",
       "\\item 85.4368082677693\n",
       "\\item 88.625283728103\n",
       "\\item 70.3116604977173\n",
       "\\item 62.968477377093\n",
       "\\item 100.71137980074\n",
       "\\item 82.1647638363786\n",
       "\\item 95.5915263496706\n",
       "\\item 90.167055046037\n",
       "\\item 65.8902415130254\n",
       "\\item 80.0070579772022\n",
       "\\item 68.2438979279665\n",
       "\\item 93.9102255761059\n",
       "\\item 68.0727511302479\n",
       "\\item 68.7073728843692\n",
       "\\item 67.4809779610821\n",
       "\\item 66.6272045686002\n",
       "\\item 91.0647099517466\n",
       "\\item 84.3663022553946\n",
       "\\item 81.7307361499086\n",
       "\\item 81.7749404790559\n",
       "\\item 69.0266859263048\n",
       "\\end{enumerate*}\n"
      ],
      "text/markdown": [
       "1. 68.5097541737936\n",
       "2. 87.6194024559328\n",
       "3. 81.7400052945284\n",
       "4. 83.5000458772874\n",
       "5. 81.3520883665426\n",
       "6. 99.9670483707851\n",
       "7. 81.4107769327936\n",
       "8. 74.7261013800915\n",
       "9. 115.550309475435\n",
       "10. 85.4368082677693\n",
       "11. 88.625283728103\n",
       "12. 70.3116604977173\n",
       "13. 62.968477377093\n",
       "14. 100.71137980074\n",
       "15. 82.1647638363786\n",
       "16. 95.5915263496706\n",
       "17. 90.167055046037\n",
       "18. 65.8902415130254\n",
       "19. 80.0070579772022\n",
       "20. 68.2438979279665\n",
       "21. 93.9102255761059\n",
       "22. 68.0727511302479\n",
       "23. 68.7073728843692\n",
       "24. 67.4809779610821\n",
       "25. 66.6272045686002\n",
       "26. 91.0647099517466\n",
       "27. 84.3663022553946\n",
       "28. 81.7307361499086\n",
       "29. 81.7749404790559\n",
       "30. 69.0266859263048\n",
       "\n",
       "\n"
      ],
      "text/plain": [
       " [1]  68.50975  87.61940  81.74001  83.50005  81.35209  99.96705  81.41078\n",
       " [8]  74.72610 115.55031  85.43681  88.62528  70.31166  62.96848 100.71138\n",
       "[15]  82.16476  95.59153  90.16706  65.89024  80.00706  68.24390  93.91023\n",
       "[22]  68.07275  68.70737  67.48098  66.62720  91.06471  84.36630  81.73074\n",
       "[29]  81.77494  69.02669"
      ]
     },
     "metadata": {},
     "output_type": "display_data"
    }
   ],
   "source": [
    "weight[species==\"Reindeer\"]"
   ]
  },
  {
   "cell_type": "markdown",
   "id": "57b547cd-5282-4214-a1a2-297ad830097f",
   "metadata": {},
   "source": [
    "...so that we can compare the average weight"
   ]
  },
  {
   "cell_type": "code",
   "execution_count": 63,
   "id": "9990886d-6ac5-4e29-85de-747d0ad4c3c1",
   "metadata": {},
   "outputs": [
    {
     "data": {
      "text/html": [
       "60.9090794883937"
      ],
      "text/latex": [
       "60.9090794883937"
      ],
      "text/markdown": [
       "60.9090794883937"
      ],
      "text/plain": [
       "[1] 60.90908"
      ]
     },
     "metadata": {},
     "output_type": "display_data"
    }
   ],
   "source": [
    "mean(weight[species==\"Deer\"])"
   ]
  },
  {
   "cell_type": "code",
   "execution_count": 64,
   "id": "af434568-ffbf-46c6-8255-2ae8aa3cff4a",
   "metadata": {},
   "outputs": [
    {
     "data": {
      "text/html": [
       "81.2418530510569"
      ],
      "text/latex": [
       "81.2418530510569"
      ],
      "text/markdown": [
       "81.2418530510569"
      ],
      "text/plain": [
       "[1] 81.24185"
      ]
     },
     "metadata": {},
     "output_type": "display_data"
    }
   ],
   "source": [
    "mean(weight[species==\"Reindeer\"])"
   ]
  },
  {
   "cell_type": "markdown",
   "id": "af5d69a7-4612-407e-be68-48a26ad64985",
   "metadata": {},
   "source": []
  },
  {
   "cell_type": "markdown",
   "id": "9f166575-3af4-4bff-9631-9916303268b5",
   "metadata": {},
   "source": [
    "Indexing is incredibly useful. You need to know it. But it is awkward for data frames. We can make a table instead using some basic data manipulation functions. This new table is a new data frame"
   ]
  },
  {
   "cell_type": "markdown",
   "id": "08c04fde-b084-41dc-9d1d-e7820a758417",
   "metadata": {},
   "source": [
    "+ is the same as %>%, I take this data... \"then I do that... and do that\" = + and %>%,"
   ]
  },
  {
   "cell_type": "code",
   "execution_count": 68,
   "id": "5cf24b76-ad38-4558-b685-1f0abb95f064",
   "metadata": {},
   "outputs": [],
   "source": [
    "meanTable <- DeerStudy %>%\n",
    "     group_by(species) %>%\n",
    "     summarize(Meanweight = mean(weight))"
   ]
  },
  {
   "cell_type": "code",
   "execution_count": 69,
   "id": "91510085-e3e0-4206-8b29-6ebe57db237f",
   "metadata": {},
   "outputs": [
    {
     "data": {
      "text/html": [
       "<table class=\"dataframe\">\n",
       "<caption>A tibble: 2 × 2</caption>\n",
       "<thead>\n",
       "\t<tr><th scope=col>species</th><th scope=col>Meanweight</th></tr>\n",
       "\t<tr><th scope=col>&lt;chr&gt;</th><th scope=col>&lt;dbl&gt;</th></tr>\n",
       "</thead>\n",
       "<tbody>\n",
       "\t<tr><td>Deer    </td><td>60.90908</td></tr>\n",
       "\t<tr><td>Reindeer</td><td>81.24185</td></tr>\n",
       "</tbody>\n",
       "</table>\n"
      ],
      "text/latex": [
       "A tibble: 2 × 2\n",
       "\\begin{tabular}{ll}\n",
       " species & Meanweight\\\\\n",
       " <chr> & <dbl>\\\\\n",
       "\\hline\n",
       "\t Deer     & 60.90908\\\\\n",
       "\t Reindeer & 81.24185\\\\\n",
       "\\end{tabular}\n"
      ],
      "text/markdown": [
       "\n",
       "A tibble: 2 × 2\n",
       "\n",
       "| species &lt;chr&gt; | Meanweight &lt;dbl&gt; |\n",
       "|---|---|\n",
       "| Deer     | 60.90908 |\n",
       "| Reindeer | 81.24185 |\n",
       "\n"
      ],
      "text/plain": [
       "  species  Meanweight\n",
       "1 Deer     60.90908  \n",
       "2 Reindeer 81.24185  "
      ]
     },
     "metadata": {},
     "output_type": "display_data"
    }
   ],
   "source": [
    "meanTable"
   ]
  },
  {
   "cell_type": "markdown",
   "id": "f31aed63-90b9-497f-8baf-e034626dff8c",
   "metadata": {},
   "source": [
    "This is the exact same logic as with the plotting. First you define the data you are working on, then you sequentially operate on it. This is called \"piping\"."
   ]
  },
  {
   "cell_type": "markdown",
   "id": "cd8557f1-fb50-4db7-a6cc-834c89d809dd",
   "metadata": {},
   "source": [
    "The mean is only one statistic. We can also look at other statistics. How about the median?"
   ]
  },
  {
   "cell_type": "code",
   "execution_count": 74,
   "id": "7184cb98-8833-4e9b-945d-73c6276a1e16",
   "metadata": {},
   "outputs": [
    {
     "data": {
      "text/html": [
       "<table class=\"dataframe\">\n",
       "<caption>A tibble: 2 × 2</caption>\n",
       "<thead>\n",
       "\t<tr><th scope=col>species</th><th scope=col>MedianWeight</th></tr>\n",
       "\t<tr><th scope=col>&lt;chr&gt;</th><th scope=col>&lt;dbl&gt;</th></tr>\n",
       "</thead>\n",
       "<tbody>\n",
       "\t<tr><td>Deer    </td><td>62.55063</td></tr>\n",
       "\t<tr><td>Reindeer</td><td>81.73537</td></tr>\n",
       "</tbody>\n",
       "</table>\n"
      ],
      "text/latex": [
       "A tibble: 2 × 2\n",
       "\\begin{tabular}{ll}\n",
       " species & MedianWeight\\\\\n",
       " <chr> & <dbl>\\\\\n",
       "\\hline\n",
       "\t Deer     & 62.55063\\\\\n",
       "\t Reindeer & 81.73537\\\\\n",
       "\\end{tabular}\n"
      ],
      "text/markdown": [
       "\n",
       "A tibble: 2 × 2\n",
       "\n",
       "| species &lt;chr&gt; | MedianWeight &lt;dbl&gt; |\n",
       "|---|---|\n",
       "| Deer     | 62.55063 |\n",
       "| Reindeer | 81.73537 |\n",
       "\n"
      ],
      "text/plain": [
       "  species  MedianWeight\n",
       "1 Deer     62.55063    \n",
       "2 Reindeer 81.73537    "
      ]
     },
     "metadata": {},
     "output_type": "display_data"
    }
   ],
   "source": [
    "medianTable <- DeerStudy %>%\n",
    "   group_by(species) %>%\n",
    "   summarize(MedianWeight = median(weight))\n",
    "medianTable"
   ]
  },
  {
   "cell_type": "code",
   "execution_count": null,
   "id": "edbc44e9-6df0-4ebe-8e99-f7afa84b17ea",
   "metadata": {},
   "outputs": [],
   "source": []
  },
  {
   "cell_type": "markdown",
   "id": "d83c236f-8520-4227-aa14-459142bd1c0a",
   "metadata": {},
   "source": [
    "We can also look at the standard deviation."
   ]
  },
  {
   "cell_type": "code",
   "execution_count": 76,
   "id": "a56f9cc9-7436-4384-8568-5d171d4b3efb",
   "metadata": {},
   "outputs": [
    {
     "data": {
      "text/html": [
       "<table class=\"dataframe\">\n",
       "<caption>A tibble: 2 × 2</caption>\n",
       "<thead>\n",
       "\t<tr><th scope=col>species</th><th scope=col>StandardDeviationWeight</th></tr>\n",
       "\t<tr><th scope=col>&lt;chr&gt;</th><th scope=col>&lt;dbl&gt;</th></tr>\n",
       "</thead>\n",
       "<tbody>\n",
       "\t<tr><td>Deer    </td><td>11.74101</td></tr>\n",
       "\t<tr><td>Reindeer</td><td>12.49195</td></tr>\n",
       "</tbody>\n",
       "</table>\n"
      ],
      "text/latex": [
       "A tibble: 2 × 2\n",
       "\\begin{tabular}{ll}\n",
       " species & StandardDeviationWeight\\\\\n",
       " <chr> & <dbl>\\\\\n",
       "\\hline\n",
       "\t Deer     & 11.74101\\\\\n",
       "\t Reindeer & 12.49195\\\\\n",
       "\\end{tabular}\n"
      ],
      "text/markdown": [
       "\n",
       "A tibble: 2 × 2\n",
       "\n",
       "| species &lt;chr&gt; | StandardDeviationWeight &lt;dbl&gt; |\n",
       "|---|---|\n",
       "| Deer     | 11.74101 |\n",
       "| Reindeer | 12.49195 |\n",
       "\n"
      ],
      "text/plain": [
       "  species  StandardDeviationWeight\n",
       "1 Deer     11.74101               \n",
       "2 Reindeer 12.49195               "
      ]
     },
     "metadata": {},
     "output_type": "display_data"
    }
   ],
   "source": [
    "sdTable <- DeerStudy %>%\n",
    "   group_by(species) %>%\n",
    "   summarize(StandardDeviationWeight = sd(weight))\n",
    "sdTable"
   ]
  },
  {
   "cell_type": "code",
   "execution_count": null,
   "id": "36645a7d-b6fc-41e8-bacc-3e748ab937e0",
   "metadata": {},
   "outputs": [],
   "source": []
  },
  {
   "cell_type": "markdown",
   "id": "7d9851c2-683b-4162-8228-8ca6df4e8645",
   "metadata": {},
   "source": [
    "Now we are almost ready to do some statistics. We will cover statistical concepts in the next lecture. BUt as a teaser, let's look at a quick comparison, and see if these means are really different."
   ]
  },
  {
   "cell_type": "code",
   "execution_count": 78,
   "id": "34100bd1-d979-4fd9-a31b-c552ab8cd97c",
   "metadata": {},
   "outputs": [
    {
     "data": {
      "text/plain": [
       "\n",
       "\tWelch Two Sample t-test\n",
       "\n",
       "data:  weight1 and weight2\n",
       "t = -6.4962, df = 57.778, p-value = 2.076e-08\n",
       "alternative hypothesis: true difference in means is not equal to 0\n",
       "95 percent confidence interval:\n",
       " -26.59859 -14.06696\n",
       "sample estimates:\n",
       "mean of x mean of y \n",
       " 60.90908  81.24185 \n"
      ]
     },
     "metadata": {},
     "output_type": "display_data"
    }
   ],
   "source": [
    "t.test(weight1, weight2)"
   ]
  },
  {
   "cell_type": "markdown",
   "id": "40114886-553d-45ca-a3f9-d183737e6d9d",
   "metadata": {},
   "source": [
    "Yes, the dataset is different (t test shows that) "
   ]
  },
  {
   "cell_type": "markdown",
   "id": "504a0793-73b2-481f-95ec-1f32b062a737",
   "metadata": {},
   "source": [
    "You have learned about indexing. You have learned about basic statistical functions. You have learned how to generate summary tables. You have run your first statistical simulation, and your first hypothesis test."
   ]
  },
  {
   "cell_type": "code",
   "execution_count": 53,
   "id": "361193e5-7452-4090-9caf-40274e2870be",
   "metadata": {},
   "outputs": [
    {
     "name": "stdout",
     "output_type": "stream",
     "text": [
      "   Classifier HoursofSleep\n",
      "1       early            5\n",
      "2       early            6\n",
      "3       early            8\n",
      "4       early            7\n",
      "5       early            7\n",
      "6       early            8\n",
      "7       early            8\n",
      "8       early            4\n",
      "9       early            5\n",
      "10      early            4\n",
      "11       late            7\n",
      "12       late            6\n",
      "13       late            8\n",
      "14       late            8\n",
      "15       late            8\n",
      "16       late            8\n",
      "17       late            7\n",
      "18       late            5\n",
      "19       late            7\n",
      "20       late            8\n"
     ]
    }
   ],
   "source": [
    "early <- c(5, 6, 8, 7, 7, 8, 8, 4, 5, 4)  \n",
    "late <- c(7, 6, 8, 8, 8, 8, 7, 5, 7, 8)\n",
    "\n",
    "HoursofSleep <- c(early, late)\n",
    "\n",
    "Classifier <- c(rep(\"early\", 10), rep(\"late\", 10))\n",
    "\n",
    "SleepStudy <- data.frame(Classifier, HoursofSleep)\n",
    "\n",
    "\n",
    "print(SleepStudy)"
   ]
  },
  {
   "cell_type": "code",
   "execution_count": 55,
   "id": "578431bd-2352-4cc8-91d9-d45ef6f1d4ad",
   "metadata": {},
   "outputs": [
    {
     "data": {
      "text/html": [
       "6.2"
      ],
      "text/latex": [
       "6.2"
      ],
      "text/markdown": [
       "6.2"
      ],
      "text/plain": [
       "[1] 6.2"
      ]
     },
     "metadata": {},
     "output_type": "display_data"
    },
    {
     "data": {
      "text/html": [
       "7.2"
      ],
      "text/latex": [
       "7.2"
      ],
      "text/markdown": [
       "7.2"
      ],
      "text/plain": [
       "[1] 7.2"
      ]
     },
     "metadata": {},
     "output_type": "display_data"
    }
   ],
   "source": [
    "mean(SleepStudy$HoursofSleep[SleepStudy$Classifier == \"early\"])\n",
    "mean(SleepStudy$HoursofSleep[SleepStudy$Classifier == \"late\"])"
   ]
  },
  {
   "cell_type": "code",
   "execution_count": 56,
   "id": "78df67dd-05e3-42c0-bd96-ce1fb2c9be4a",
   "metadata": {},
   "outputs": [
    {
     "name": "stdout",
     "output_type": "stream",
     "text": [
      "   Early Late\n",
      "1      5    7\n",
      "2      6    6\n",
      "3      8    8\n",
      "4      7    8\n",
      "5      7    8\n",
      "6      8    8\n",
      "7      8    7\n",
      "8      4    5\n",
      "9      5    7\n",
      "10     4    8\n"
     ]
    }
   ],
   "source": [
    "early <- c(5, 6, 8, 7, 7, 8, 8, 4, 5, 4)  \n",
    "late <- c(7, 6, 8, 8, 8, 8, 7, 5, 7, 8)\n",
    "\n",
    "SleepStudy <- data.frame(Early = early, Late = late)\n",
    "\n",
    "\n",
    "print(SleepStudy)"
   ]
  },
  {
   "cell_type": "code",
   "execution_count": 57,
   "id": "c94197c6-c6ba-47c2-b772-a35109a1c09a",
   "metadata": {},
   "outputs": [
    {
     "data": {
      "text/html": [
       "<table class=\"dataframe\">\n",
       "<caption>A tibble: 2 × 2</caption>\n",
       "<thead>\n",
       "\t<tr><th scope=col>Classifier</th><th scope=col>MeanSleep</th></tr>\n",
       "\t<tr><th scope=col>&lt;chr&gt;</th><th scope=col>&lt;dbl&gt;</th></tr>\n",
       "</thead>\n",
       "<tbody>\n",
       "\t<tr><td>early</td><td>6.2</td></tr>\n",
       "\t<tr><td>late </td><td>7.2</td></tr>\n",
       "</tbody>\n",
       "</table>\n"
      ],
      "text/latex": [
       "A tibble: 2 × 2\n",
       "\\begin{tabular}{ll}\n",
       " Classifier & MeanSleep\\\\\n",
       " <chr> & <dbl>\\\\\n",
       "\\hline\n",
       "\t early & 6.2\\\\\n",
       "\t late  & 7.2\\\\\n",
       "\\end{tabular}\n"
      ],
      "text/markdown": [
       "\n",
       "A tibble: 2 × 2\n",
       "\n",
       "| Classifier &lt;chr&gt; | MeanSleep &lt;dbl&gt; |\n",
       "|---|---|\n",
       "| early | 6.2 |\n",
       "| late  | 7.2 |\n",
       "\n"
      ],
      "text/plain": [
       "  Classifier MeanSleep\n",
       "1 early      6.2      \n",
       "2 late       7.2      "
      ]
     },
     "metadata": {},
     "output_type": "display_data"
    }
   ],
   "source": [
    "library(dplyr)\n",
    "\n",
    "early <- c(5, 6, 8, 7, 7, 8, 8, 4, 5, 4)  \n",
    "late <- c(7, 6, 8, 8, 8, 8, 7, 5, 7, 8)\n",
    "\n",
    "HoursofSleep <- c(early, late)\n",
    "\n",
    "Classifier <- c(rep(\"early\", 10), rep(\"late\", 10))\n",
    "\n",
    "SleepStudy <- data.frame(Classifier, HoursofSleep)\n",
    "\n",
    "meanTable <- SleepStudy %>%\n",
    "  group_by(Classifier) %>%\n",
    "  summarize(MeanSleep = mean(HoursofSleep))\n",
    "\n",
    "meanTable"
   ]
  },
  {
   "cell_type": "code",
   "execution_count": 58,
   "id": "ca333ed2-b5c0-4423-9a97-d8f11029f869",
   "metadata": {},
   "outputs": [
    {
     "data": {
      "text/html": [
       "6.7"
      ],
      "text/latex": [
       "6.7"
      ],
      "text/markdown": [
       "6.7"
      ],
      "text/plain": [
       "[1] 6.7"
      ]
     },
     "metadata": {},
     "output_type": "display_data"
    }
   ],
   "source": [
    "mean(HoursofSleep)"
   ]
  },
  {
   "cell_type": "code",
   "execution_count": 59,
   "id": "0d57c897-ced3-467a-ace7-4599b3bcb71c",
   "metadata": {},
   "outputs": [
    {
     "name": "stdout",
     "output_type": "stream",
     "text": [
      " [1] 5 6 8 7 7 8 8 4 5 4 7 6 8 8 8 8 7 5 7 8\n"
     ]
    }
   ],
   "source": [
    "print(HoursofSleep)"
   ]
  },
  {
   "cell_type": "code",
   "execution_count": 61,
   "id": "01568da2-3126-4f57-97a6-9ed06726228b",
   "metadata": {},
   "outputs": [
    {
     "data": {
      "text/html": [
       "<style>\n",
       ".list-inline {list-style: none; margin:0; padding: 0}\n",
       ".list-inline>li {display: inline-block}\n",
       ".list-inline>li:not(:last-child)::after {content: \"\\00b7\"; padding: 0 .5ex}\n",
       "</style>\n",
       "<ol class=list-inline><li>7</li><li>6</li><li>8</li><li>8</li><li>8</li><li>8</li><li>7</li><li>5</li><li>7</li><li>8</li></ol>\n"
      ],
      "text/latex": [
       "\\begin{enumerate*}\n",
       "\\item 7\n",
       "\\item 6\n",
       "\\item 8\n",
       "\\item 8\n",
       "\\item 8\n",
       "\\item 8\n",
       "\\item 7\n",
       "\\item 5\n",
       "\\item 7\n",
       "\\item 8\n",
       "\\end{enumerate*}\n"
      ],
      "text/markdown": [
       "1. 7\n",
       "2. 6\n",
       "3. 8\n",
       "4. 8\n",
       "5. 8\n",
       "6. 8\n",
       "7. 7\n",
       "8. 5\n",
       "9. 7\n",
       "10. 8\n",
       "\n",
       "\n"
      ],
      "text/plain": [
       " [1] 7 6 8 8 8 8 7 5 7 8"
      ]
     },
     "metadata": {},
     "output_type": "display_data"
    }
   ],
   "source": [
    "HoursofSleep[Classifier==\"late\"]"
   ]
  },
  {
   "cell_type": "code",
   "execution_count": 62,
   "id": "d587f462-5cb0-4247-a05f-5873c3701085",
   "metadata": {},
   "outputs": [
    {
     "data": {
      "text/html": [
       "<style>\n",
       ".list-inline {list-style: none; margin:0; padding: 0}\n",
       ".list-inline>li {display: inline-block}\n",
       ".list-inline>li:not(:last-child)::after {content: \"\\00b7\"; padding: 0 .5ex}\n",
       "</style>\n",
       "<ol class=list-inline><li>5</li><li>6</li><li>8</li><li>7</li><li>7</li><li>8</li><li>8</li><li>4</li><li>5</li><li>4</li></ol>\n"
      ],
      "text/latex": [
       "\\begin{enumerate*}\n",
       "\\item 5\n",
       "\\item 6\n",
       "\\item 8\n",
       "\\item 7\n",
       "\\item 7\n",
       "\\item 8\n",
       "\\item 8\n",
       "\\item 4\n",
       "\\item 5\n",
       "\\item 4\n",
       "\\end{enumerate*}\n"
      ],
      "text/markdown": [
       "1. 5\n",
       "2. 6\n",
       "3. 8\n",
       "4. 7\n",
       "5. 7\n",
       "6. 8\n",
       "7. 8\n",
       "8. 4\n",
       "9. 5\n",
       "10. 4\n",
       "\n",
       "\n"
      ],
      "text/plain": [
       " [1] 5 6 8 7 7 8 8 4 5 4"
      ]
     },
     "metadata": {},
     "output_type": "display_data"
    }
   ],
   "source": [
    "HoursofSleep[Classifier==\"early\"]"
   ]
  },
  {
   "cell_type": "code",
   "execution_count": 63,
   "id": "c5fbd1b2-5785-4ed1-aaad-e7ea9c19b2f5",
   "metadata": {},
   "outputs": [
    {
     "data": {
      "text/html": [
       "<table class=\"dataframe\">\n",
       "<caption>A tibble: 2 × 2</caption>\n",
       "<thead>\n",
       "\t<tr><th scope=col>Classifier</th><th scope=col>MedianWeight</th></tr>\n",
       "\t<tr><th scope=col>&lt;chr&gt;</th><th scope=col>&lt;dbl&gt;</th></tr>\n",
       "</thead>\n",
       "<tbody>\n",
       "\t<tr><td>early</td><td>6.5</td></tr>\n",
       "\t<tr><td>late </td><td>7.5</td></tr>\n",
       "</tbody>\n",
       "</table>\n"
      ],
      "text/latex": [
       "A tibble: 2 × 2\n",
       "\\begin{tabular}{ll}\n",
       " Classifier & MedianWeight\\\\\n",
       " <chr> & <dbl>\\\\\n",
       "\\hline\n",
       "\t early & 6.5\\\\\n",
       "\t late  & 7.5\\\\\n",
       "\\end{tabular}\n"
      ],
      "text/markdown": [
       "\n",
       "A tibble: 2 × 2\n",
       "\n",
       "| Classifier &lt;chr&gt; | MedianWeight &lt;dbl&gt; |\n",
       "|---|---|\n",
       "| early | 6.5 |\n",
       "| late  | 7.5 |\n",
       "\n"
      ],
      "text/plain": [
       "  Classifier MedianWeight\n",
       "1 early      6.5         \n",
       "2 late       7.5         "
      ]
     },
     "metadata": {},
     "output_type": "display_data"
    }
   ],
   "source": [
    "medianTable <- SleepStudy %>%\n",
    "   group_by(Classifier) %>%\n",
    "   summarize(MedianWeight = median(HoursofSleep))\n",
    "medianTable"
   ]
  },
  {
   "cell_type": "code",
   "execution_count": 64,
   "id": "3a22f17a-062e-46d7-af02-b3eb80922e74",
   "metadata": {},
   "outputs": [
    {
     "data": {
      "text/html": [
       "<table class=\"dataframe\">\n",
       "<caption>A tibble: 2 × 2</caption>\n",
       "<thead>\n",
       "\t<tr><th scope=col>Classifier</th><th scope=col>StandardDeviationSleep</th></tr>\n",
       "\t<tr><th scope=col>&lt;chr&gt;</th><th scope=col>&lt;dbl&gt;</th></tr>\n",
       "</thead>\n",
       "<tbody>\n",
       "\t<tr><td>early</td><td>1.619328</td></tr>\n",
       "\t<tr><td>late </td><td>1.032796</td></tr>\n",
       "</tbody>\n",
       "</table>\n"
      ],
      "text/latex": [
       "A tibble: 2 × 2\n",
       "\\begin{tabular}{ll}\n",
       " Classifier & StandardDeviationSleep\\\\\n",
       " <chr> & <dbl>\\\\\n",
       "\\hline\n",
       "\t early & 1.619328\\\\\n",
       "\t late  & 1.032796\\\\\n",
       "\\end{tabular}\n"
      ],
      "text/markdown": [
       "\n",
       "A tibble: 2 × 2\n",
       "\n",
       "| Classifier &lt;chr&gt; | StandardDeviationSleep &lt;dbl&gt; |\n",
       "|---|---|\n",
       "| early | 1.619328 |\n",
       "| late  | 1.032796 |\n",
       "\n"
      ],
      "text/plain": [
       "  Classifier StandardDeviationSleep\n",
       "1 early      1.619328              \n",
       "2 late       1.032796              "
      ]
     },
     "metadata": {},
     "output_type": "display_data"
    }
   ],
   "source": [
    "sdTable <- SleepStudy %>%\n",
    "   group_by(Classifier) %>%\n",
    "   summarize(StandardDeviationSleep = sd(HoursofSleep))\n",
    "sdTable"
   ]
  },
  {
   "cell_type": "code",
   "execution_count": null,
   "id": "1d33ecdf-92c9-45b1-90b1-4cabc10b7125",
   "metadata": {},
   "outputs": [],
   "source": []
  }
 ],
 "metadata": {
  "kernelspec": {
   "display_name": "R",
   "language": "R",
   "name": "ir"
  },
  "language_info": {
   "codemirror_mode": "r",
   "file_extension": ".r",
   "mimetype": "text/x-r-source",
   "name": "R",
   "pygments_lexer": "r",
   "version": "4.4.1"
  }
 },
 "nbformat": 4,
 "nbformat_minor": 5
}
